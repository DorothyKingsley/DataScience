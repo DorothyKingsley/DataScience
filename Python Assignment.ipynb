{
 "cells": [
  {
   "cell_type": "code",
   "execution_count": null,
   "metadata": {},
   "outputs": [],
   "source": [
    "#for i in range(2000,5000):\n",
    "# if(i%7==0 and i%5!=0):\n",
    "#    print(i)\n",
    "l1=list(range(2000,3200))\n",
    "l2=list();\n",
    "for i in range(len(l1)):\n",
    "    if ((i%7==0) and (i%5!=0)):        \n",
    "        l2.append(l1[i]);\n",
    "l2"
   ]
  },
  {
   "cell_type": "markdown",
   "metadata": {},
   "source": [
    "**Qstn 2 - to get the factorial of a given number**"
   ]
  },
  {
   "cell_type": "code",
   "execution_count": 10,
   "metadata": {},
   "outputs": [
    {
     "name": "stdout",
     "output_type": "stream",
     "text": [
      "Enter the number to find the factorial8\n"
     ]
    }
   ],
   "source": [
    "ipnum1=input(\"Enter the number to find the factorial\")\n",
    "ipnum=int(ipnum1)\n",
    "factorial=1\n",
    "if (ipnum>0):\n",
    "    for i in range(1,ipnum+1):\n",
    "         factorial=factorial*i\n",
    "else:\n",
    "    print(\"Factorial for the given number: \" +str(ipnum) +\" does not exist\" )\n",
    "    "
   ]
  },
  {
   "cell_type": "markdown",
   "metadata": {},
   "source": [
    "**Qstn 3  - to create the dictionary with i and i*i**"
   ]
  },
  {
   "cell_type": "code",
   "execution_count": 88,
   "metadata": {},
   "outputs": [
    {
     "data": {
      "text/plain": [
       "{1: 1, 2: 4, 3: 9}"
      ]
     },
     "execution_count": 88,
     "metadata": {},
     "output_type": "execute_result"
    }
   ],
   "source": [
    "n=3\n",
    "dict1=dict()\n",
    "for i in range(1,n+1):\n",
    "    key=i;\n",
    "    value=i*i;\n",
    "    dict1.update({key:value})\n",
    "dict1"
   ]
  },
  {
   "cell_type": "markdown",
   "metadata": {},
   "source": [
    "**Qstn # 4 - to create a list and tuple from the number of input values**"
   ]
  },
  {
   "cell_type": "code",
   "execution_count": 26,
   "metadata": {},
   "outputs": [
    {
     "name": "stdout",
     "output_type": "stream",
     "text": [
      "['34', '67', '55', '33', '12', '98'] ('34', '67', '55', '33', '12', '98')\n"
     ]
    }
   ],
   "source": [
    "l1=['34','67','55','33','12','98']\n",
    "t1=tuple(l1)\n",
    "print(l1,t1)"
   ]
  },
  {
   "cell_type": "markdown",
   "metadata": {},
   "source": [
    "**Qstn 5 - Create class**"
   ]
  },
  {
   "cell_type": "code",
   "execution_count": 85,
   "metadata": {},
   "outputs": [
    {
     "name": "stdout",
     "output_type": "stream",
     "text": [
      "enter the input stringwelcome to python classes\n",
      "The string to print is :  welcome to python classes\n"
     ]
    }
   ],
   "source": [
    "class stringHandling:\n",
    "    def __init__(self,a):\n",
    "        self.a=a\n",
    "        \n",
    "    def getString(self):\n",
    "        self.strin=input(\"enter the input string\")\n",
    "        \n",
    "    def printstring(self):\n",
    "        print(\"The string to print is : \",self.strin)\n",
    "s1=stringHandling(\"a\")\n",
    "s1.getString()\n",
    "s1.printstring()"
   ]
  },
  {
   "cell_type": "markdown",
   "metadata": {},
   "source": [
    "**6. Write a program that calculates and prints the value according to the given formula:\n",
    "Q = Square root of [(2 * C * D)/H]\n",
    "Following are the fixed values of C and H: C is 50. H is 30.**"
   ]
  },
  {
   "cell_type": "code",
   "execution_count": 27,
   "metadata": {},
   "outputs": [
    {
     "name": "stdout",
     "output_type": "stream",
     "text": [
      "enter the value for D in comma seperated format10,20\n"
     ]
    },
    {
     "data": {
      "text/plain": [
       "[5, 8]"
      ]
     },
     "execution_count": 27,
     "metadata": {},
     "output_type": "execute_result"
    }
   ],
   "source": [
    "import math\n",
    "C=50\n",
    "H=30\n",
    "Din=input(\"enter the value for D in comma seperated format\")\n",
    "Din=Din.split(',')\n",
    "root=[]\n",
    "for i in Din:\n",
    "    root.append(int(math.sqrt((2*C*int(i))/H)))\n",
    "root"
   ]
  },
  {
   "cell_type": "markdown",
   "metadata": {},
   "source": [
    "**7. Write a program which takes 2 digits, X,Y as input and generates a 2-dimensional array. The element value in the i-th row and j-th column of the array should be i*j.\n",
    "Note: i=0,1.., X-1; j=0,1,¡Y-1.\n",
    "Suppose the following inputs are given to the program: 3, 5\n",
    "Then, the output of the program should be: [[0, 0, 0, 0, 0], [0, 1, 2, 3, 4], [0, 2, 4, 6, 8]]\n",
    "Hints: In case of input data being supplied to the question, it should be assumed to be a console input in a comma-separated form.**"
   ]
  },
  {
   "cell_type": "code",
   "execution_count": 6,
   "metadata": {},
   "outputs": [
    {
     "name": "stdout",
     "output_type": "stream",
     "text": [
      "Enter X,Y values3,5\n"
     ]
    },
    {
     "data": {
      "text/plain": [
       "[[0, 0, 0, 0, 0], [0, 1, 2, 3, 4], [0, 2, 4, 6, 8]]"
      ]
     },
     "execution_count": 6,
     "metadata": {},
     "output_type": "execute_result"
    }
   ],
   "source": [
    "nums=input(\"Enter X,Y values\")\n",
    "x,y=nums.split(',')\n",
    "x=int(x)\n",
    "y=int(y)\n",
    "L1=[]\n",
    "for i in range(x):\n",
    "    l2=[]\n",
    "    for j in range(y):\n",
    "        l2.append(i*j)\n",
    "    L1.append(l2)\n",
    "L1"
   ]
  },
  {
   "cell_type": "markdown",
   "metadata": {},
   "source": [
    "**8. Write a program that accepts a comma separated sequence of words as input and prints the words in a comma-separated sequence after sorting them alphabetically.\n",
    "Suppose the input is supplied to the program: without, hello, bag, world\n",
    "Then, the output should be: bag, hello, without, world\n",
    "Hints: In case of input data being supplied to the question, it should be assumed to be a console input.**"
   ]
  },
  {
   "cell_type": "code",
   "execution_count": 10,
   "metadata": {},
   "outputs": [
    {
     "name": "stdout",
     "output_type": "stream",
     "text": [
      "Enter the wordswithout, hello, bag, world\n"
     ]
    },
    {
     "data": {
      "text/plain": [
       "[' bag', ' hello', ' world', 'without']"
      ]
     },
     "execution_count": 10,
     "metadata": {},
     "output_type": "execute_result"
    }
   ],
   "source": [
    "wordin=input(\"Enter the words\")\n",
    "words=[]\n",
    "words=wordin.split(',')\n",
    "words.sort()\n",
    "words"
   ]
  },
  {
   "cell_type": "markdown",
   "metadata": {},
   "source": [
    "** 9.Write a program that accepts sequence of lines as input and prints the lines after making all characters in the sentence capitalized.Suppose the input is supplied to the program: Hello world\n",
    "Practice makes perfect\n",
    "Then, the output should be: HELLO WORLD\n",
    "PRACTICE MAKES PERFECT\n",
    "Hints: In case of input data being supplied to the question, it should be assumed to be a console input.**"
   ]
  },
  {
   "cell_type": "code",
   "execution_count": 28,
   "metadata": {},
   "outputs": [
    {
     "data": {
      "text/plain": [
       "['HELLO WORLD', ' PRACTICE MAKES PERFECT']"
      ]
     },
     "execution_count": 28,
     "metadata": {},
     "output_type": "execute_result"
    }
   ],
   "source": [
    "#s1=input(\"Enter the input sentences seperated by \\n to denote new line\") ##Not complete\n",
    "s1='Hello world\\n Practice makes perfect'\n",
    "s3=[]\n",
    "s2=s1.splitlines()\n",
    "for i in s2:\n",
    "    s3.append(i.upper())\n",
    "s3"
   ]
  },
  {
   "cell_type": "markdown",
   "metadata": {},
   "source": [
    "**10. Write a program that accepts a sequence of whitespace separated words as input and prints the words after removing all duplicate words and sorting them alphanumerically.\n",
    "Suppose the input is supplied to the program: hello world and practice makes perfect and hello world again\n",
    "Then, the output should be: again and hello makes perfect practice world**"
   ]
  },
  {
   "cell_type": "code",
   "execution_count": 3,
   "metadata": {},
   "outputs": [
    {
     "name": "stdout",
     "output_type": "stream",
     "text": [
      "Enter whitespace seperated wordshello world and practice makes perfect and hello world again\n"
     ]
    },
    {
     "data": {
      "text/plain": [
       "['again', 'and', 'hello', 'makes', 'perfect', 'practice', 'world']"
      ]
     },
     "execution_count": 3,
     "metadata": {},
     "output_type": "execute_result"
    }
   ],
   "source": [
    "string1=input(\"Enter whitespace seperated words\")\n",
    "strlst=string1.split(' ')\n",
    "strop=list(dict.fromkeys(strlst))\n",
    "strop.sort()\n",
    "strop\n"
   ]
  },
  {
   "cell_type": "markdown",
   "metadata": {},
   "source": [
    "**11. Write a program which accepts a sequence of comma separated 4 digit binary numbers as its input and then check whether they are divisible by 5 or not. The numbers that are divisible by 5 are to be printed in a comma separated sequence.\n",
    "Suppose the input is supplied to the program: 0100,0011,1010,1001\n",
    "Then the output should be: 1010\n",
    "Notes: Assume the data is input by console.\n",
    "Hints: In case of input data being supplied to the question, it should be assumed to be a console input.**"
   ]
  },
  {
   "cell_type": "code",
   "execution_count": 19,
   "metadata": {},
   "outputs": [
    {
     "name": "stdout",
     "output_type": "stream",
     "text": [
      "Enter the comma seperated 4 digit binary numbers1000,0100,1010,0101,1111\n"
     ]
    },
    {
     "data": {
      "text/plain": [
       "[10, 5, 15]"
      ]
     },
     "execution_count": 19,
     "metadata": {},
     "output_type": "execute_result"
    }
   ],
   "source": [
    "binnums=input(\"Enter the comma seperated 4 digit binary numbers\")\n",
    "binlist=binnums.split(',')\n",
    "intlist=[]\n",
    "for i in binlist:\n",
    "    j=int(i,2)\n",
    "    if (j%5==0):\n",
    "        intlist.append(j)\n",
    "intlist"
   ]
  },
  {
   "cell_type": "markdown",
   "metadata": {},
   "source": [
    "**12. Write a program, which will find all such numbers between 1000 and 3000 (both included) such that each digit of the number is an even number.\n",
    "The numbers obtained should be printed in a comma-separated sequence on a single line.\n",
    "Hints: In case of input data being supplied to the question, it should be assumed to be a console input.**"
   ]
  },
  {
   "cell_type": "code",
   "execution_count": 35,
   "metadata": {},
   "outputs": [
    {
     "name": "stdout",
     "output_type": "stream",
     "text": [
      "Enter the list of numbers seperated by comma1000,3001\n"
     ]
    },
    {
     "data": {
      "text/plain": [
       "[2000,\n",
       " 2002,\n",
       " 2004,\n",
       " 2006,\n",
       " 2008,\n",
       " 2020,\n",
       " 2022,\n",
       " 2024,\n",
       " 2026,\n",
       " 2028,\n",
       " 2040,\n",
       " 2042,\n",
       " 2044,\n",
       " 2046,\n",
       " 2048,\n",
       " 2060,\n",
       " 2062,\n",
       " 2064,\n",
       " 2066,\n",
       " 2068,\n",
       " 2080,\n",
       " 2082,\n",
       " 2084,\n",
       " 2086,\n",
       " 2088,\n",
       " 2200,\n",
       " 2202,\n",
       " 2204,\n",
       " 2206,\n",
       " 2208,\n",
       " 2220,\n",
       " 2222,\n",
       " 2224,\n",
       " 2226,\n",
       " 2228,\n",
       " 2240,\n",
       " 2242,\n",
       " 2244,\n",
       " 2246,\n",
       " 2248,\n",
       " 2260,\n",
       " 2262,\n",
       " 2264,\n",
       " 2266,\n",
       " 2268,\n",
       " 2280,\n",
       " 2282,\n",
       " 2284,\n",
       " 2286,\n",
       " 2288,\n",
       " 2400,\n",
       " 2402,\n",
       " 2404,\n",
       " 2406,\n",
       " 2408,\n",
       " 2420,\n",
       " 2422,\n",
       " 2424,\n",
       " 2426,\n",
       " 2428,\n",
       " 2440,\n",
       " 2442,\n",
       " 2444,\n",
       " 2446,\n",
       " 2448,\n",
       " 2460,\n",
       " 2462,\n",
       " 2464,\n",
       " 2466,\n",
       " 2468,\n",
       " 2480,\n",
       " 2482,\n",
       " 2484,\n",
       " 2486,\n",
       " 2488,\n",
       " 2600,\n",
       " 2602,\n",
       " 2604,\n",
       " 2606,\n",
       " 2608,\n",
       " 2620,\n",
       " 2622,\n",
       " 2624,\n",
       " 2626,\n",
       " 2628,\n",
       " 2640,\n",
       " 2642,\n",
       " 2644,\n",
       " 2646,\n",
       " 2648,\n",
       " 2660,\n",
       " 2662,\n",
       " 2664,\n",
       " 2666,\n",
       " 2668,\n",
       " 2680,\n",
       " 2682,\n",
       " 2684,\n",
       " 2686,\n",
       " 2688,\n",
       " 2800,\n",
       " 2802,\n",
       " 2804,\n",
       " 2806,\n",
       " 2808,\n",
       " 2820,\n",
       " 2822,\n",
       " 2824,\n",
       " 2826,\n",
       " 2828,\n",
       " 2840,\n",
       " 2842,\n",
       " 2844,\n",
       " 2846,\n",
       " 2848,\n",
       " 2860,\n",
       " 2862,\n",
       " 2864,\n",
       " 2866,\n",
       " 2868,\n",
       " 2880,\n",
       " 2882,\n",
       " 2884,\n",
       " 2886,\n",
       " 2888]"
      ]
     },
     "execution_count": 35,
     "metadata": {},
     "output_type": "execute_result"
    }
   ],
   "source": [
    "ipnums=input(\"Enter the list of numbers seperated by comma\")\n",
    "num1,num2=ipnums.split(',')\n",
    "num1=int(num1)\n",
    "num2=int(num2)\n",
    "evenlst=[]\n",
    "oddcnt=0\n",
    "oddset={'1','3','5','7','9'}\n",
    "for i in range(num1,num2+1):\n",
    "    j=str(i)    \n",
    "    if any((c in oddset) for c in j):\n",
    "        oddcnt=oddcnt+1\n",
    "    else:\n",
    "        evenlst.append(i)\n",
    "evenlst\n",
    "    \n"
   ]
  },
  {
   "cell_type": "markdown",
   "metadata": {},
   "source": [
    "**13. Write a program that accepts a sentence and calculate the number of letters and digits.\n",
    "Suppose the input is supplied to the program: hello world! 123\n",
    "Then, the output should be: LETTERS 10\n",
    "DIGITS 3\n",
    "Hints: In case of input data being supplied to the question, it should be assumed to be a console input.**"
   ]
  },
  {
   "cell_type": "code",
   "execution_count": 22,
   "metadata": {},
   "outputs": [
    {
     "name": "stdout",
     "output_type": "stream",
     "text": [
      "Enter the input stringhello world! 123\n",
      "LETTERS10DIGITS3\n"
     ]
    }
   ],
   "source": [
    "string1=input(\"Enter the input string\")\n",
    "ltrcnt=0\n",
    "dgtcnt=0\n",
    "for i in string1:\n",
    "    if (i.isalpha())==True:        \n",
    "        ltrcnt=ltrcnt+1\n",
    "    elif (i.isnumeric())==True:\n",
    "        dgtcnt=dgtcnt+1\n",
    "print(\"LETTERS\" + str(ltrcnt) + \"DIGITS\" + str(dgtcnt))\n"
   ]
  },
  {
   "cell_type": "markdown",
   "metadata": {},
   "source": [
    "**14. Write a program that accepts a sentence and calculate the number of upper case letters and lower case letters.\n",
    "Suppose the input is supplied to the program: Hello world!\n",
    "Then, the output should be: UPPER CASE 1\n",
    "LOWER CASE 9\n",
    "Hints: In case of input data being supplied to the question, it should be assumed to be a console input.**"
   ]
  },
  {
   "cell_type": "code",
   "execution_count": 28,
   "metadata": {},
   "outputs": [
    {
     "name": "stdout",
     "output_type": "stream",
     "text": [
      "Enter the input stringHello world\n",
      "LETTERS 1DIGITS 9\n"
     ]
    }
   ],
   "source": [
    "string1=input(\"Enter the input string\")\n",
    "uprcnt=0\n",
    "lwrcnt=0\n",
    "for i in string1:\n",
    "    if (i.isalpha())==True:\n",
    "        if (i.isupper())==True:        \n",
    "            uprcnt=uprcnt+1\n",
    "        else:\n",
    "            lwrcnt=lwrcnt+1\n",
    "print(\"LETTERS \" + str(uprcnt) + \"DIGITS \" + str(lwrcnt))"
   ]
  },
  {
   "cell_type": "markdown",
   "metadata": {},
   "source": [
    "**15. Write a program that computes the value of a+aa+aaa+aaaa with a given digit as the value of a.\n",
    "Suppose the input is supplied to the program: 9\n",
    "Then, the output should be: 11106\n",
    "Hints: In case of input data being supplied to the question, it should be assumed to be a console input.**"
   ]
  },
  {
   "cell_type": "code",
   "execution_count": 31,
   "metadata": {},
   "outputs": [
    {
     "name": "stdout",
     "output_type": "stream",
     "text": [
      "Enter the nnumber9\n",
      "7380\n"
     ]
    }
   ],
   "source": [
    "a=int(input(\"Enter the nnumber\"))\n",
    "rslt=(a+(a**2)+(a**3)+(a**4))\n",
    "print(rslt)"
   ]
  },
  {
   "cell_type": "markdown",
   "metadata": {},
   "source": [
    "**16. Use a list comprehension to square each odd number in a list. The list is input by a sequence of comma-separated numbers.\n",
    "Suppose the input is supplied to the program: 1,2,3,4,5,6,7,8,9\n",
    "Then, the output should be: 1, 3, 5, 7, 9\n",
    "Hints: In case of input data being supplied to the question, it should be assumed to be a console input.**"
   ]
  },
  {
   "cell_type": "code",
   "execution_count": 31,
   "metadata": {},
   "outputs": [
    {
     "name": "stdout",
     "output_type": "stream",
     "text": [
      "Enter the comma seperated list of numbers10,13,3,7,4,6,14\n"
     ]
    },
    {
     "data": {
      "text/plain": [
       "[169, 9, 49]"
      ]
     },
     "execution_count": 31,
     "metadata": {},
     "output_type": "execute_result"
    }
   ],
   "source": [
    "input1=input(\"Enter the comma seperated list of numbers\")\n",
    "input2=input1.split(',')\n",
    "l1=[int(i) for i in input2]\n",
    "l2=[j**2 for j in l1 if((j%2)!=0)]\n",
    "l2"
   ]
  },
  {
   "cell_type": "markdown",
   "metadata": {},
   "source": [
    "**17. Write a program that computes the net amount of a bank account based a transaction log from console input. The transaction log format is shown as following:\n",
    "D 100\n",
    "W 200\n",
    "--D means deposit while W means withdrawal.\n",
    "Suppose the input is supplied to the program:\n",
    "D 300\n",
    "W 200\n",
    "D 100\n",
    "Then, the output should be: 500\n",
    "Hints: In case of input data being supplied to the question, it should be assumed to be a console input.**"
   ]
  },
  {
   "cell_type": "markdown",
   "metadata": {},
   "source": [
    "**18. A website requires the users to input username and password to register. Write a program to check the validity of password input by users.\n",
    "Following are the criteria for checking the password\n",
    "1. At least 1 letter between [a-z]\n",
    "2. At least 1 number between [0-9]\n",
    "1. At least 1 letter between [A-Z]\n",
    "3. At least 1 character from [$#@]\n",
    "4. Minimum length of transaction password: 6\n",
    "5. Maximum length of transaction password: 12\n",
    "Your program should accept a sequence of comma separated passwords and will check them according to the above criteria. Passwords that match the criteria are to be printed, each separated by a comma.\n",
    "If the following passwords are given as input to the program: ABd1234@1,a F1#,2w3E*,2We3345\n",
    "Then, the output of the program should be: ABd1234@1\n",
    "Hints: In case of input data being supplied to the question, it should be assumed to be a console input.**"
   ]
  },
  {
   "cell_type": "markdown",
   "metadata": {},
   "source": [
    "**19. You are required to write a program to sort the (name, age, height) tuples by ascending order where name is string, age and height are numbers. The tuples are input by console. The sort criteria is:\n",
    "1: Sort based on name;\n",
    "2: Then sort based on age;\n",
    "3: Then sort by score.\n",
    "The priority is that name > age > score.\n",
    "If the following tuples are given as input to the program:\n",
    "Tom,19,80\n",
    "John,20,90\n",
    "Jony,17,91\n",
    "Jony,17,93\n",
    "Json,21,85\n",
    "Then, the output of the program should be:\n",
    "[('John', '20', '90'), ('Jony', '17', '91'), ('Jony', '17', '93'), ('Json', '21', '85'), ('Tom', '19', '80')]\n",
    "Hints: In case of input data being supplied to the question, it should be assumed to be a console input. We use itemgetter to enable multiple sort keys.**"
   ]
  },
  {
   "cell_type": "code",
   "execution_count": 49,
   "metadata": {},
   "outputs": [
    {
     "name": "stdout",
     "output_type": "stream",
     "text": [
      "Enter the comma seperated tuples in the form of (Name, age, score)('Tom', '19', '80'),('John', '20', '90'),('Jony', '17', '91'),('Jony', '17', '93'),('Json', '21', '85')\n"
     ]
    },
    {
     "data": {
      "text/plain": [
       "[(\"'John'\", \" '20'\", \" '90'\"),\n",
       " (\"'Jony'\", \" '17'\", \" '91'\"),\n",
       " (\"'Jony'\", \" '17'\", \" '93'\"),\n",
       " (\"'Json'\", \" '21'\", \" '85'\"),\n",
       " (\"'Tom'\", \" '19'\", \" '80'\")]"
      ]
     },
     "execution_count": 49,
     "metadata": {},
     "output_type": "execute_result"
    }
   ],
   "source": [
    "ip=input (\"Enter the comma seperated tuples in the form of (Name, age, score)\")\n",
    "pd=[]\n",
    "for tup in ip.split(\"),(\"):\n",
    "    tup=tup.replace(\"(\",\"\").replace(\")\",\"\")\n",
    "    pd.append(tuple(tup.split(\",\")))\n",
    "#pd\n",
    "srtd=sorted(pd,key=itemgetter(0,1,2))\n",
    "srtd"
   ]
  },
  {
   "cell_type": "markdown",
   "metadata": {},
   "source": [
    "**20. Define a class with a generator which can iterate the numbers, which are divisible by 7, between a given range 0 and n.\n",
    "Hints: Consider use yield**"
   ]
  },
  {
   "cell_type": "code",
   "execution_count": 91,
   "metadata": {},
   "outputs": [
    {
     "ename": "AttributeError",
     "evalue": "'gendiv7' object has no attribute 'PowTwogen'",
     "output_type": "error",
     "traceback": [
      "\u001b[1;31m---------------------------------------------------------------------------\u001b[0m",
      "\u001b[1;31mAttributeError\u001b[0m                            Traceback (most recent call last)",
      "\u001b[1;32m<ipython-input-91-79c91f7fd292>\u001b[0m in \u001b[0;36m<module>\u001b[1;34m()\u001b[0m\n\u001b[0;32m      7\u001b[0m                 \u001b[1;32myield\u001b[0m \u001b[0mn\u001b[0m\u001b[1;33m\u001b[0m\u001b[0m\n\u001b[0;32m      8\u001b[0m \u001b[0mg1\u001b[0m\u001b[1;33m=\u001b[0m\u001b[0mgendiv7\u001b[0m\u001b[1;33m(\u001b[0m\u001b[1;36m70\u001b[0m\u001b[1;33m)\u001b[0m\u001b[1;33m\u001b[0m\u001b[0m\n\u001b[1;32m----> 9\u001b[1;33m \u001b[0mg1\u001b[0m\u001b[1;33m.\u001b[0m\u001b[0mPowTwogen\u001b[0m\u001b[1;33m(\u001b[0m\u001b[1;33m)\u001b[0m\u001b[1;33m\u001b[0m\u001b[0m\n\u001b[0m\u001b[0;32m     10\u001b[0m \u001b[1;32mfor\u001b[0m \u001b[0mj\u001b[0m \u001b[1;32min\u001b[0m \u001b[0mg1\u001b[0m\u001b[1;33m:\u001b[0m\u001b[1;33m\u001b[0m\u001b[0m\n\u001b[0;32m     11\u001b[0m     \u001b[0mprint\u001b[0m\u001b[1;33m(\u001b[0m\u001b[0mj\u001b[0m\u001b[1;33m)\u001b[0m\u001b[1;33m\u001b[0m\u001b[0m\n",
      "\u001b[1;31mAttributeError\u001b[0m: 'gendiv7' object has no attribute 'PowTwogen'"
     ]
    }
   ],
   "source": [
    "class gendiv7:\n",
    "    def __init__(self, max):\n",
    "        self.max = max\n",
    "    def PowTwoGen(self):\n",
    "        for i in range(self.max):\n",
    "            if(n%7==0):\n",
    "                yield n\n",
    "g1=gendiv7(70)\n",
    "g1.PowTwogen()\n",
    "for j in g1:\n",
    "    print(j)"
   ]
  },
  {
   "cell_type": "markdown",
   "metadata": {},
   "source": [
    "**21. A robot moves in a plane starting from the original point (0,0). The robot can move toward UP, DOWN, LEFT and RIGHT with a given steps. The trace of robot movement is shown as the following:\n",
    "UP 5\n",
    "DOWN 3\n",
    "LEFT 3\n",
    "RIGHT 2\n",
    "¡The\n",
    "numbers after the direction are steps. Please write a program to compute the distance from current position after a sequence of movement and original point. If the distance is a float, then just print the nearest integer.\n",
    "If the following tuples are given as input to the program:\n",
    "UP 5\n",
    "DOWN 3\n",
    "LEFT 3\n",
    "RIGHT 2\n",
    "Then, the output of the program should be: 2\n",
    "Hints: In case of input data being supplied to the question, it should be assumed to be a console input.**"
   ]
  },
  {
   "cell_type": "code",
   "execution_count": 87,
   "metadata": {},
   "outputs": [
    {
     "name": "stdout",
     "output_type": "stream",
     "text": [
      "2\n"
     ]
    }
   ],
   "source": [
    "import math\n",
    "x1=0\n",
    "y1=0\n",
    "#x2=(right-left)\n",
    "#y2=(up-down)\n",
    "x2=1\n",
    "y2=2\n",
    "distance=int(math.sqrt(((x2-x1)*2)+((y2-y1)*2)))\n",
    "print(distance)"
   ]
  },
  {
   "cell_type": "markdown",
   "metadata": {},
   "source": [
    "**22. Write a program to compute the frequency of the words from the input. The output should output after sorting the key alphanumerically.\n",
    "Suppose the input is supplied to the program:\n",
    "New to Python or choosing between Python 2 and Python 3? Read Python 2 or Python 3.\n",
    "Then, the output should be:\n",
    "2:2\n",
    "3.:1\n",
    "3?:1\n",
    "New:1\n",
    "Python:5\n",
    "Read:1\n",
    "and:1\n",
    "between:1\n",
    "choosing:1\n",
    "or:2\n",
    "to:1\n",
    "Hints: In case of input data being supplied to the question, it should be assumed to be a console input.**"
   ]
  },
  {
   "cell_type": "code",
   "execution_count": 36,
   "metadata": {},
   "outputs": [
    {
     "name": "stdout",
     "output_type": "stream",
     "text": [
      "Enter the string to be counted New to Python or choosing between Python 2 and Python 3? Read Python 2 or Python 3\n",
      "2 2\n",
      "3 2\n",
      "3? 1\n",
      "New 1\n",
      "Python 5\n",
      "Read 1\n",
      "and 1\n",
      "between 1\n",
      "choosing 1\n",
      "or 2\n",
      "to 1\n"
     ]
    }
   ],
   "source": [
    "str1=input(\"Enter the string to be counted \")\n",
    "lst1=str1.split(' ')\n",
    "dict1=dict()\n",
    "for i in lst1:\n",
    "    cnt1=str1.count(i)\n",
    "    dict1.update({i:cnt1})\n",
    "for key in sorted(dict1):\n",
    "    print(key,dict1[key])\n"
   ]
  },
  {
   "cell_type": "markdown",
   "metadata": {},
   "source": [
    "**23. Write a method which can calculate square value of number\n",
    "Hints: Using the ** operator**"
   ]
  },
  {
   "cell_type": "code",
   "execution_count": 5,
   "metadata": {},
   "outputs": [
    {
     "name": "stdout",
     "output_type": "stream",
     "text": [
      "Enter the number to be squared4\n",
      "16\n"
     ]
    }
   ],
   "source": [
    "numin=input(\"Enter the number to be squared\")\n",
    "num1=int(numin)\n",
    "numout=num1**2\n",
    "print(numout)\n"
   ]
  },
  {
   "cell_type": "markdown",
   "metadata": {},
   "source": [
    "**24. Python has many built-in functions, and if you do not know how to use it, you can read document online or find some books. But Python has a built-in document function for every\n",
    "built-in functions. Please write a program to print some Python built-in functions documents, such as abs(), int(), raw_input() And add document for your own function\n",
    "Hints: The built-in document method is __doc__**"
   ]
  },
  {
   "cell_type": "markdown",
   "metadata": {},
   "source": [
    "**25. Define a class, which have a class parameter and have a same instance parameter.\n",
    "Hints: Define a instance parameter, need add it in __init__ method\n",
    "You can init a object with construct parameter or set the value later**"
   ]
  },
  {
   "cell_type": "markdown",
   "metadata": {},
   "source": [
    "**26. Define a function which can compute the sum of two numbers.\n",
    "Hints: Define a function with two numbers as arguments. You can compute the sum in the function and return the value.**"
   ]
  },
  {
   "cell_type": "code",
   "execution_count": 2,
   "metadata": {},
   "outputs": [
    {
     "name": "stdout",
     "output_type": "stream",
     "text": [
      "Enter the 2 numbers to be added10,12\n",
      "22.0\n"
     ]
    }
   ],
   "source": [
    "inputs=input(\"Enter the 2 numbers to be added\")\n",
    "num1,num2=inputs.split(',')\n",
    "a=float(num1)\n",
    "b=float(num2)\n",
    "\n",
    "def addnums(a,b):\n",
    "    c=a+b\n",
    "    return(c)\n",
    "\n",
    "sum=addnums(a,b)\n",
    "print(sum)"
   ]
  },
  {
   "cell_type": "markdown",
   "metadata": {},
   "source": [
    "**27. Define a function that can convert a integer into a string and print it in console.\n",
    "Hints: Use str() to convert a number to string.**"
   ]
  },
  {
   "cell_type": "code",
   "execution_count": 4,
   "metadata": {},
   "outputs": [
    {
     "name": "stdout",
     "output_type": "stream",
     "text": [
      "10 <class 'str'>\n"
     ]
    }
   ],
   "source": [
    "num1= 10 #edit the number which you want to convert to integer\n",
    "str1=str(num1)\n",
    "print(str1,type(str1))"
   ]
  },
  {
   "cell_type": "markdown",
   "metadata": {},
   "source": [
    "**28. Define a function that can convert a integer into a string and print it in console.\n",
    "Hints: Use str() to convert a number to string.**"
   ]
  },
  {
   "cell_type": "code",
   "execution_count": null,
   "metadata": {},
   "outputs": [],
   "source": [
    "## Repeat of the qstn no 27"
   ]
  },
  {
   "cell_type": "markdown",
   "metadata": {},
   "source": [
    "**29. Define a function that can receive two integral numbers in string form and compute their sum and then print it in console.\n",
    "Hints: Use int() to convert a string to integer.**"
   ]
  },
  {
   "cell_type": "code",
   "execution_count": null,
   "metadata": {},
   "outputs": [],
   "source": [
    "##qstn no 26 repeat"
   ]
  },
  {
   "cell_type": "markdown",
   "metadata": {},
   "source": [
    "**30. Define a function that can accept two strings as input and concatenate them and then print it in console.\n",
    "Hints: Use + to concatenate the strings**"
   ]
  },
  {
   "cell_type": "code",
   "execution_count": 6,
   "metadata": {},
   "outputs": [
    {
     "name": "stdout",
     "output_type": "stream",
     "text": [
      "enter the 2 strings seperated by commahi, welcome\n",
      "hi welcome\n"
     ]
    }
   ],
   "source": [
    "input1=input(\"enter the 2 strings seperated by comma\")\n",
    "str1,str2=input1.split(',')\n",
    "print(str1+str2)"
   ]
  },
  {
   "cell_type": "markdown",
   "metadata": {},
   "source": [
    "**31. Define a function that can accept two strings as input and print the string with maximum length in console. If two strings have the same length, then the function should print al l strings line by line.\n",
    "Hints: Use len() function to get the length of a string**"
   ]
  },
  {
   "cell_type": "code",
   "execution_count": 11,
   "metadata": {},
   "outputs": [
    {
     "name": "stdout",
     "output_type": "stream",
     "text": [
      "Enter 2 strings seperated by commajey,bye\n",
      "jey bye\n"
     ]
    }
   ],
   "source": [
    "input1=input(\"Enter 2 strings seperated by comma\")\n",
    "str1,str2=input1.split(',')\n",
    "if(len(str1)>len(str2)):\n",
    " print(str1)\n",
    "elif(len(str1)<len(str2)):\n",
    " print(str2)\n",
    "else:\n",
    " print(str1,str2)"
   ]
  },
  {
   "cell_type": "markdown",
   "metadata": {},
   "source": [
    "**32. Define a function that can accept an integer number as input and print the \"It is an even number\" if the number is even, otherwise print \"It is an odd number\".\n",
    "Hints: Use % operator to check if a number is even or odd.**"
   ]
  },
  {
   "cell_type": "code",
   "execution_count": 13,
   "metadata": {},
   "outputs": [
    {
     "name": "stdout",
     "output_type": "stream",
     "text": [
      "enter the number12\n",
      "Its an even number\n"
     ]
    }
   ],
   "source": [
    "input1=input(\"enter the number\")\n",
    "num1=int(input1)\n",
    "if(num1%2==0):\n",
    "    print(\"Its an even number\")\n",
    "else:\n",
    "    print(\"Its an odd number\")"
   ]
  },
  {
   "cell_type": "markdown",
   "metadata": {},
   "source": [
    "**33. Define a function which can print a dictionary where the keys are numbers between 1 and 3 (both included) and the values are square of keys.\n",
    "Hints: Use dict[key]=value pattern to put entry into a dictionary.Use * * operator to get power of a number.**"
   ]
  },
  {
   "cell_type": "code",
   "execution_count": 56,
   "metadata": {},
   "outputs": [
    {
     "data": {
      "text/plain": [
       "{1: 1, 2: 4, 3: 9}"
      ]
     },
     "execution_count": 56,
     "metadata": {},
     "output_type": "execute_result"
    }
   ],
   "source": [
    "def createdict(a,b):\n",
    "    dict1=dict()\n",
    "    for i in range(a,b+1):\n",
    "        dict1[i]=i**2\n",
    "    return(dict1)\n",
    "opdict=createdict(1,3)\n",
    "opdict"
   ]
  },
  {
   "cell_type": "markdown",
   "metadata": {},
   "source": [
    "**34. Define a function which can print a dictionary where the keys are numbers between 1 and 20 (both included) and the values are square of keys.\n",
    "Hints: Use dict[key]=value pattern to put entry into a dictionary.\n",
    "Use ** operator to get power of a number. Use range() for loops.**"
   ]
  },
  {
   "cell_type": "code",
   "execution_count": 57,
   "metadata": {},
   "outputs": [
    {
     "data": {
      "text/plain": [
       "{1: 1,\n",
       " 2: 4,\n",
       " 3: 9,\n",
       " 4: 16,\n",
       " 5: 25,\n",
       " 6: 36,\n",
       " 7: 49,\n",
       " 8: 64,\n",
       " 9: 81,\n",
       " 10: 100,\n",
       " 11: 121,\n",
       " 12: 144,\n",
       " 13: 169,\n",
       " 14: 196,\n",
       " 15: 225,\n",
       " 16: 256,\n",
       " 17: 289,\n",
       " 18: 324,\n",
       " 19: 361,\n",
       " 20: 400}"
      ]
     },
     "execution_count": 57,
     "metadata": {},
     "output_type": "execute_result"
    }
   ],
   "source": [
    "def createdict(a,b):\n",
    "    dict1=dict()\n",
    "    for i in range(a,b+1):\n",
    "        dict1[i]=i**2\n",
    "    return(dict1)\n",
    "opdict=createdict(1,20)\n",
    "opdict"
   ]
  },
  {
   "cell_type": "markdown",
   "metadata": {},
   "source": [
    "**35. Define a function which can generate a dictionary where the keys are numbers between 1 and 20 (both included) and the values are square of keys. The function should just print the values only.\n",
    "Hints: Use dict[key]=value pattern to put entry into a dictionary. Use ** operator to get power of a number. Use range() for loops. Use keys() to iterate keys in the dictionary. Also we can use item() to get key/value pairs.**"
   ]
  },
  {
   "cell_type": "code",
   "execution_count": 63,
   "metadata": {},
   "outputs": [
    {
     "name": "stdout",
     "output_type": "stream",
     "text": [
      "dict_keys([1, 2, 3, 4, 5, 6, 7, 8, 9, 10, 11, 12, 13, 14, 15, 16, 17, 18, 19, 20])\n"
     ]
    }
   ],
   "source": [
    "def createdict(a,b):\n",
    "    dict1=dict()\n",
    "    for i in range(a,b+1):\n",
    "        dict1[i]=i**2\n",
    "    return(dict1)\n",
    "opdict=createdict(1,20)\n",
    "print(opdict.values())\n"
   ]
  },
  {
   "cell_type": "markdown",
   "metadata": {},
   "source": [
    "**36. Define a function which can generate a dictionary where the keys are numbers between 1 and 20 (both included) and the values are square of keys. The function should just print the keys only.\n",
    "Hints: Use dict[key]=value pattern to put entry into a dictionary. Use ** operator to get power of a number. Use range() for loops. Use keys() to iterate keys in the dictionary. Also we can use item() to get key/value pairs.**"
   ]
  },
  {
   "cell_type": "code",
   "execution_count": 64,
   "metadata": {},
   "outputs": [
    {
     "name": "stdout",
     "output_type": "stream",
     "text": [
      "dict_keys([1, 2, 3, 4, 5, 6, 7, 8, 9, 10, 11, 12, 13, 14, 15, 16, 17, 18, 19, 20])\n"
     ]
    }
   ],
   "source": [
    "def createdict(a,b):\n",
    "    dict1=dict()\n",
    "    for i in range(a,b+1):\n",
    "        dict1[i]=i**2\n",
    "    return(dict1)\n",
    "opdict=createdict(1,20)\n",
    "print(opdict.keys())"
   ]
  },
  {
   "cell_type": "markdown",
   "metadata": {},
   "source": [
    "**37. Define a function which can generate and print a list where the values are square of numbers between 1 and 20 (both included).\n",
    "Hints: Use ** operator to get power of a number. Use range() for loops. Use list.append() to add values into a list.**"
   ]
  },
  {
   "cell_type": "code",
   "execution_count": 65,
   "metadata": {},
   "outputs": [
    {
     "data": {
      "text/plain": [
       "[1,\n",
       " 4,\n",
       " 9,\n",
       " 16,\n",
       " 25,\n",
       " 36,\n",
       " 49,\n",
       " 64,\n",
       " 81,\n",
       " 100,\n",
       " 121,\n",
       " 144,\n",
       " 169,\n",
       " 196,\n",
       " 225,\n",
       " 256,\n",
       " 289,\n",
       " 324,\n",
       " 361,\n",
       " 400]"
      ]
     },
     "execution_count": 65,
     "metadata": {},
     "output_type": "execute_result"
    }
   ],
   "source": [
    "oplst=[]\n",
    "def sqrnums(a,b):\n",
    "    lst=[]\n",
    "    for i in range(a,b+1):\n",
    "        lst.append(i**2)\n",
    "    return lst\n",
    "oplst=sqrnums(1,20)\n",
    "oplst"
   ]
  },
  {
   "cell_type": "markdown",
   "metadata": {},
   "source": [
    "**38. Define a function which can generate a list where the values are square of numbers between 1 and 20 (both included). Then the function needs to print the first 5 elements in the list.\n",
    "Hints: Use ** operator to get power of a number. Use range() for loops. Use list.append() to add values into a list. Use [n1:n2] to slice a list**"
   ]
  },
  {
   "cell_type": "code",
   "execution_count": 50,
   "metadata": {},
   "outputs": [
    {
     "data": {
      "text/plain": [
       "[1, 4, 9, 16, 25]"
      ]
     },
     "execution_count": 50,
     "metadata": {},
     "output_type": "execute_result"
    }
   ],
   "source": [
    "oplst=[]\n",
    "def sqrnums(a,b):\n",
    "    lst=[]\n",
    "    for i in range(a,b):\n",
    "        lst.append(i**2)\n",
    "    return lst\n",
    "oplst=sqrnums(1,21)\n",
    "oplst[:5]"
   ]
  },
  {
   "cell_type": "markdown",
   "metadata": {},
   "source": [
    "**39. Define a function which can generate a list where the values are square of numbers between 1 and 20 (both included). Then the function needs to print the last 5 elements in the list.\n",
    "Hints: Use ** operator to get power of a number. Use range() for loops. Use list.append() to add values into a list. Use [n1:n2] to slice a list**"
   ]
  },
  {
   "cell_type": "code",
   "execution_count": 53,
   "metadata": {},
   "outputs": [
    {
     "data": {
      "text/plain": [
       "[256, 289, 324, 361, 400]"
      ]
     },
     "execution_count": 53,
     "metadata": {},
     "output_type": "execute_result"
    }
   ],
   "source": [
    "oplst=[]\n",
    "def sqrnums(a,b):\n",
    "    lst=[]\n",
    "    for i in range(a,b):\n",
    "        lst.append(i**2)\n",
    "    return lst\n",
    "oplst=sqrnums(1,21)\n",
    "oplst[-5:]"
   ]
  },
  {
   "cell_type": "markdown",
   "metadata": {},
   "source": [
    "**40. Define a function which can generate a list where the values are square of numbers between 1 and 20 (both included). Then the function needs to print all values except the first 5 elements in the list.\n",
    "Hints: Use ** operator to get power of a number. Use range() for loops. Use list.append() to add values into a list. Use [n1:n2] to slice a list**"
   ]
  },
  {
   "cell_type": "code",
   "execution_count": 54,
   "metadata": {},
   "outputs": [
    {
     "data": {
      "text/plain": [
       "[36, 49, 64, 81, 100, 121, 144, 169, 196, 225]"
      ]
     },
     "execution_count": 54,
     "metadata": {},
     "output_type": "execute_result"
    }
   ],
   "source": [
    "oplst=[]\n",
    "def sqrnums(a,b):\n",
    "    lst=[]\n",
    "    for i in range(a,b):\n",
    "        lst.append(i**2)\n",
    "    return lst\n",
    "oplst=sqrnums(1,21)\n",
    "oplst[5:-5]\n"
   ]
  },
  {
   "cell_type": "markdown",
   "metadata": {},
   "source": [
    "**41. Define a function which can generate and print a tuple where the value are square of numbers between 1 and 20 (both included).\n",
    "Hints: Use ** operator to get power of a number. Use range() for loops. Use list.append() to add values into a list. Use tuple() to get a tuple from a list.**"
   ]
  },
  {
   "cell_type": "code",
   "execution_count": 56,
   "metadata": {},
   "outputs": [
    {
     "data": {
      "text/plain": [
       "(1,\n",
       " 4,\n",
       " 9,\n",
       " 16,\n",
       " 25,\n",
       " 36,\n",
       " 49,\n",
       " 64,\n",
       " 81,\n",
       " 100,\n",
       " 121,\n",
       " 144,\n",
       " 169,\n",
       " 196,\n",
       " 225,\n",
       " 256,\n",
       " 289,\n",
       " 324,\n",
       " 361,\n",
       " 400)"
      ]
     },
     "execution_count": 56,
     "metadata": {},
     "output_type": "execute_result"
    }
   ],
   "source": [
    "t1=()\n",
    "oplst=[]\n",
    "def sqrnums(a,b):\n",
    "    lst=[]\n",
    "    for i in range(a,b):\n",
    "        lst.append(i**2)\n",
    "    return lst\n",
    "oplst=sqrnums(1,21)\n",
    "t1=tuple(oplst)\n",
    "t1\n"
   ]
  },
  {
   "cell_type": "markdown",
   "metadata": {},
   "source": [
    "**42. With a given tuple (1,2,3,4,5,6,7,8,9,10), write a program to print the first half values in one line and the last half values in one line.\n",
    "Hints: Use [n1:n2] notation to get a slice from a tuple.**"
   ]
  },
  {
   "cell_type": "code",
   "execution_count": 6,
   "metadata": {},
   "outputs": [
    {
     "name": "stdout",
     "output_type": "stream",
     "text": [
      "(1, 2, 3, 4, 5)\n",
      "(6, 7, 8, 9, 10)\n"
     ]
    }
   ],
   "source": [
    "t1=(1,2,3,4,5,6,7,8,9,10)\n",
    "print(t1[0:5])\n",
    "print(t1[5:])"
   ]
  },
  {
   "cell_type": "markdown",
   "metadata": {},
   "source": [
    "**43. Write a program to generate and print another tuple whose values are even numbers in the given tuple (1,2,3,4,5,6,7,8,9,10).\n",
    "Hints: Use \"for\" to iterate the tuple. Use tuple() to generate a tuple from a list.**"
   ]
  },
  {
   "cell_type": "code",
   "execution_count": 7,
   "metadata": {},
   "outputs": [
    {
     "data": {
      "text/plain": [
       "(2, 4, 6, 8, 10)"
      ]
     },
     "execution_count": 7,
     "metadata": {},
     "output_type": "execute_result"
    }
   ],
   "source": [
    "t1=(1,2,3,4,5,6,7,8,9,10)\n",
    "l1=[]\n",
    "for i in t1:\n",
    "    if((i%2)==0):\n",
    "        l1.append(i)\n",
    "t2=tuple(l1)\n",
    "t2\n",
    "\n"
   ]
  },
  {
   "cell_type": "markdown",
   "metadata": {},
   "source": [
    "**44. Write a program which accepts a string as input to print \"Yes\" if the string is \"yes\" or \"YES\" or \"Yes\", otherwise print \"No\".\n",
    "Hints: Use if statement to judge condition.**"
   ]
  },
  {
   "cell_type": "code",
   "execution_count": 12,
   "metadata": {},
   "outputs": [
    {
     "name": "stdout",
     "output_type": "stream",
     "text": [
      "Enter the inputyes\n",
      "Yes\n"
     ]
    }
   ],
   "source": [
    "s1=input(\"Enter the input\")\n",
    "if ((s1==\"YES\") or (s1==\"yes\") or (s1==\"Yes\")):\n",
    "    print(\"Yes\")\n",
    "else:\n",
    "    print(\"No\")\n"
   ]
  },
  {
   "cell_type": "markdown",
   "metadata": {},
   "source": [
    "**45. Write a program which can filter even numbers in a list by using filter function. The list is: [1,2,3,4,5,6,7,8,9,10].\n",
    "Hints: use filter() to filter some elements in a list. Use lambda to define anonymous functions.**"
   ]
  },
  {
   "cell_type": "code",
   "execution_count": 14,
   "metadata": {},
   "outputs": [
    {
     "data": {
      "text/plain": [
       "[2, 4, 6, 8, 10]"
      ]
     },
     "execution_count": 14,
     "metadata": {},
     "output_type": "execute_result"
    }
   ],
   "source": [
    "l1=[1,2,3,4,5,6,7,8,9,10]\n",
    "l2=list(filter(lambda i: i%2==0,l1))\n",
    "l2\n"
   ]
  },
  {
   "cell_type": "markdown",
   "metadata": {},
   "source": [
    "**46. Write a program which can map() to make a list whose elements are square of elements in [1,2,3,4,5,6,7,8,9,10].\n",
    "Hints: Use map() to generate a list. Use lambda to define anonymous functions.**"
   ]
  },
  {
   "cell_type": "code",
   "execution_count": 15,
   "metadata": {},
   "outputs": [
    {
     "data": {
      "text/plain": [
       "[1, 4, 9, 16, 25, 36, 49, 64, 81, 100]"
      ]
     },
     "execution_count": 15,
     "metadata": {},
     "output_type": "execute_result"
    }
   ],
   "source": [
    "l1=[1,2,3,4,5,6,7,8,9,10]\n",
    "l2=list(map(lambda i: i**2,l1))\n",
    "l2\n"
   ]
  },
  {
   "cell_type": "markdown",
   "metadata": {},
   "source": [
    "**47. Write a program which can map() and filter() to make a list whose elements are square of even number in [1,2,3,4,5,6,7,8,9,10].\n",
    "Hints: Use map() to generate a list. Use filter() to filter elements of a list. Use lambda to define anonymous functions.**"
   ]
  },
  {
   "cell_type": "code",
   "execution_count": 17,
   "metadata": {},
   "outputs": [
    {
     "data": {
      "text/plain": [
       "[4, 16, 36, 64, 100]"
      ]
     },
     "execution_count": 17,
     "metadata": {},
     "output_type": "execute_result"
    }
   ],
   "source": [
    "l1=[1,2,3,4,5,6,7,8,9,10]\n",
    "l2=list(filter(lambda j: j%2==0,list(map(lambda i: i**2,l1))))\n",
    "l2"
   ]
  },
  {
   "cell_type": "markdown",
   "metadata": {},
   "source": [
    "**48. Write a program which can filter() to make a list whose elements are even number between 1 and 20 (both included).Hints: Use filter() to filter elements of a list. Use lambda to define anonymous functions.**"
   ]
  },
  {
   "cell_type": "code",
   "execution_count": 23,
   "metadata": {},
   "outputs": [
    {
     "data": {
      "text/plain": [
       "[[2, 4, 6, 8, 10]]"
      ]
     },
     "execution_count": 23,
     "metadata": {},
     "output_type": "execute_result"
    }
   ],
   "source": [
    "for i in range(1,21):\n",
    "    list1=[]\n",
    "    list1.append(list(filter(lambda i: i%2==0,l1)))\n",
    "list1"
   ]
  },
  {
   "cell_type": "markdown",
   "metadata": {},
   "source": [
    "**49. Write a program which can map() to make a list whose elements are square of numbers between 1 and 20 (both included).\n",
    "Hints: Use map() to generate a list. Use lambda to define anonymous functions.**"
   ]
  },
  {
   "cell_type": "code",
   "execution_count": 24,
   "metadata": {},
   "outputs": [
    {
     "data": {
      "text/plain": [
       "[[4, 16, 36, 64, 100]]"
      ]
     },
     "execution_count": 24,
     "metadata": {},
     "output_type": "execute_result"
    }
   ],
   "source": [
    "for i in range(1,21):\n",
    "    list2=[]\n",
    "    list2.append(list(filter(lambda j: j%2==0,list(map(lambda i: i**2,l1)))))\n",
    "list2"
   ]
  },
  {
   "cell_type": "markdown",
   "metadata": {},
   "source": [
    "**50. Define a class named American which has a static method called printNationality.\n",
    "Hints: Use @staticmethod decorator to define class static method.**"
   ]
  },
  {
   "cell_type": "code",
   "execution_count": 81,
   "metadata": {},
   "outputs": [
    {
     "name": "stdout",
     "output_type": "stream",
     "text": [
      "My nationality is american\n"
     ]
    }
   ],
   "source": [
    "class American:\n",
    "    @staticmethod\n",
    "    def printNationality():\n",
    "        print(\"My nationality is american\")\n",
    "American().printNationality()"
   ]
  },
  {
   "cell_type": "markdown",
   "metadata": {},
   "source": [
    "**51. Define a class named American and its subclass NewYorker.\n",
    "Hints: Use class Subclass(ParentClass) to define a subclass.**"
   ]
  },
  {
   "cell_type": "code",
   "execution_count": null,
   "metadata": {},
   "outputs": [],
   "source": [
    "class American:\n",
    "    def __init__(self):\n",
    "class NewYorker(American):\n",
    "    def __init__(self):\n",
    "    "
   ]
  },
  {
   "cell_type": "markdown",
   "metadata": {},
   "source": [
    "**52. Define a class named Circle which can be constructed by a radius. The Circle class has a method which can compute the area.\n",
    "Hints: Use def methodName(self) to define a method.**"
   ]
  },
  {
   "cell_type": "code",
   "execution_count": 13,
   "metadata": {},
   "outputs": [
    {
     "name": "stdout",
     "output_type": "stream",
     "text": [
      "28.26\n"
     ]
    }
   ],
   "source": [
    "class Circle:\n",
    "    def __init__(self,radius):\n",
    "        self.radius=radius\n",
    "    def findarea(self):\n",
    "        area=3.14*(self.radius**2)\n",
    "        print(area)\n",
    "c1=Circle(3)\n",
    "c1.findarea()\n",
    "        \n",
    "    "
   ]
  },
  {
   "cell_type": "markdown",
   "metadata": {},
   "source": [
    "**53. Define a class named Rectangle which can be constructed by a length and width. The Rectangle class has a method which can compute the area.\n",
    "Hints: Use def methodName(self) to define a method.**"
   ]
  },
  {
   "cell_type": "code",
   "execution_count": 15,
   "metadata": {},
   "outputs": [
    {
     "name": "stdout",
     "output_type": "stream",
     "text": [
      "12\n"
     ]
    }
   ],
   "source": [
    "class Rectangle:\n",
    "    def __init__(self,length,width):\n",
    "        self.length=length\n",
    "        self.width=width\n",
    "    def findarea(self):\n",
    "        area=self.length*self.width\n",
    "        print(area)\n",
    "r1=Rectangle(3,4)\n",
    "r1.findarea()\n",
    "    \n",
    "    "
   ]
  },
  {
   "cell_type": "markdown",
   "metadata": {},
   "source": [
    "**54. Define a class named Shape and its subclass Square. The Square class has an init function which takes a length as argument. Both classes have a area function which can print the area of the shape where Shape's area is 0 by default.\n",
    "Hints: To override a method in super class, we can define a method with the same name in the super class.**"
   ]
  },
  {
   "cell_type": "code",
   "execution_count": 22,
   "metadata": {},
   "outputs": [
    {
     "name": "stdout",
     "output_type": "stream",
     "text": [
      "4\n"
     ]
    }
   ],
   "source": [
    "class shape:                                    #################3is this correct ????????????????????????\n",
    "    def __init__(self):\n",
    "        print(\"this is root class\")\n",
    "    def area():\n",
    "        print('Default area of the shapes is zero')\n",
    "class square(shape):\n",
    "    def __init__(self,length):\n",
    "        self.length=length\n",
    "    def area(self):\n",
    "        sqarea=self.length*self.length\n",
    "        print(sqarea)\n",
    "s1=square(2)\n",
    "s1.area()"
   ]
  },
  {
   "cell_type": "markdown",
   "metadata": {},
   "source": [
    "**55. Write a function to compute 5/0 and use try/except to catch the exceptions.\n",
    "Hints: Use try/except to catch exceptions.**"
   ]
  },
  {
   "cell_type": "markdown",
   "metadata": {},
   "source": [
    "**56. Define a custom exception class which takes a string message as attribute.\n",
    "Hints: To define a custom exception, we need to define a class inherited from Exception.**"
   ]
  },
  {
   "cell_type": "markdown",
   "metadata": {},
   "source": [
    "**57. Assuming that we have some email addresses in the \"username@companyname.com\" format, please write program to print the user name of a given email address. Both user names and company names are composed of letters only.\n",
    "If the following email address is given as input to the program: Chandra@analytixlabs.com\n",
    "Then, the output of the program should be: ChandraHints: Use \\w to match letters. In case of input data being supplied to the question, it should be assumed to be a console input.\n",
    "**"
   ]
  },
  {
   "cell_type": "code",
   "execution_count": 79,
   "metadata": {},
   "outputs": [
    {
     "name": "stdout",
     "output_type": "stream",
     "text": [
      "enter the email addressjoeson-12.hr@google.com\n",
      "joeson-12.hr\n"
     ]
    }
   ],
   "source": [
    "import re\n",
    "email=input(\"enter the email address\")\n",
    "regexpat=r'([\\w\\.-]+)@([\\w\\.-]+)'\n",
    "match=re.search(regexpat,email)\n",
    "if not match is None:\n",
    "    print (match.group(1))\n",
    "else:\n",
    "    print(\"Did not match\")"
   ]
  },
  {
   "cell_type": "markdown",
   "metadata": {},
   "source": [
    "**58. Assuming that we have some email addresses in the \"username@companyname.com\" format, please write program to print the company name of a given email address. Both user names and company names are composed of letters only.\n",
    "If the following email address is given as input to the program: Chandra@analytixlabs.com\n",
    "Then, the output of the program should be: analytixlabs\n",
    "In case of input data being supplied to the question, it should be assumed to be a console input.Hints: Use \\w to match letters**"
   ]
  },
  {
   "cell_type": "code",
   "execution_count": 78,
   "metadata": {},
   "outputs": [
    {
     "name": "stdout",
     "output_type": "stream",
     "text": [
      "enter the email addressjoeson@google.com\n",
      "google\n"
     ]
    }
   ],
   "source": [
    "import re\n",
    "email=input(\"enter the email address\")\n",
    "regexpat=r'([\\w\\.-]+)@([\\w-]+)'\n",
    "match=re.search(regexpat,email)\n",
    "if not match is None:\n",
    "    print (match.group(2))\n",
    "else:\n",
    "    print(\"Did not match\")"
   ]
  },
  {
   "cell_type": "markdown",
   "metadata": {},
   "source": [
    "**59. Write a program which accepts a sequence of words separated by whitespace as input to print the words composed of digits only.\n",
    "If the following words are given as input to the program: 2 cats and 3 dogs.\n",
    "Then, the output of the program should be: ['2', '3']\n",
    "In case of input data being supplied to the question, it should be assumed to be a console input.\n",
    "Hints: Use re.findall() to find all substring using regex.\n",
    "**"
   ]
  },
  {
   "cell_type": "code",
   "execution_count": 80,
   "metadata": {},
   "outputs": [
    {
     "name": "stdout",
     "output_type": "stream",
     "text": [
      "Enter the mix of digits and strings seperated by white space2 cats and 3 dogs\n"
     ]
    },
    {
     "data": {
      "text/plain": [
       "['2', '3']"
      ]
     },
     "execution_count": 80,
     "metadata": {},
     "output_type": "execute_result"
    }
   ],
   "source": [
    "inpt1=input(\"Enter the mix of digits and strings seperated by white space\")\n",
    "digits=re.findall(r'\\d',inpt1)\n",
    "digits"
   ]
  },
  {
   "cell_type": "markdown",
   "metadata": {},
   "source": [
    "**60. Print a unicode string \"hello world\".\n",
    "Hints: Use u'strings' format to define unicode string.**"
   ]
  },
  {
   "cell_type": "code",
   "execution_count": 82,
   "metadata": {},
   "outputs": [
    {
     "data": {
      "text/plain": [
       "'Hello world'"
      ]
     },
     "execution_count": 82,
     "metadata": {},
     "output_type": "execute_result"
    }
   ],
   "source": [
    "str1=u'Hello world'\n",
    "str1"
   ]
  },
  {
   "cell_type": "markdown",
   "metadata": {},
   "source": [
    "**61. Write a program to read an ASCII string and to convert it to a unicode string encoded by utf-8.\n",
    "Hints: Use unicode() function to convert.**\n"
   ]
  },
  {
   "cell_type": "code",
   "execution_count": 86,
   "metadata": {},
   "outputs": [
    {
     "name": "stdout",
     "output_type": "stream",
     "text": [
      "Enter the stringhelo\n"
     ]
    },
    {
     "data": {
      "text/plain": [
       "b'helo'"
      ]
     },
     "execution_count": 86,
     "metadata": {},
     "output_type": "execute_result"
    }
   ],
   "source": [
    "str1=input(\"Enter the string\")  ## is there any other function\n",
    "str2=str1.encode('utf-8')\n",
    "str2"
   ]
  },
  {
   "cell_type": "markdown",
   "metadata": {},
   "source": [
    "**62. Write a special comment to indicate a Python source code file is in unicode.**"
   ]
  },
  {
   "cell_type": "code",
   "execution_count": 78,
   "metadata": {},
   "outputs": [],
   "source": [
    "# coding=<encoding name>                                       ???????????????????????????????\n",
    "#or (using formats recognized by popular editors):\n",
    "\n",
    "#!/usr/bin/python\n",
    "# -*- coding: <encoding name> -*-\n",
    "#or:\n",
    "\n",
    "#!/usr/bin/python\n",
    "# vim: set fileencoding=<encoding name> :\n",
    "#More precisely, the first or second line must match the following regular expression:\n",
    "\n",
    "#^[ \\t\\f]*#.*?coding[:=][ \\t]*([-_.a-zA-Z0-9]+)"
   ]
  },
  {
   "cell_type": "markdown",
   "metadata": {},
   "source": [
    "**63. Write a program to compute 1/2+2/3+3/4+...+n/n+1 with a given n input by console (n>0).\n",
    "If the following n is given as input to the program: 5\n",
    "Then, the output of the program should be: 3.55  In case of input data being supplied to the question, it should be assumed to be a console input.\n",
    "Hints: Use float() to convert an integer to a float**"
   ]
  },
  {
   "cell_type": "code",
   "execution_count": 26,
   "metadata": {},
   "outputs": [
    {
     "name": "stdout",
     "output_type": "stream",
     "text": [
      "enter the value n5\n",
      "3.5500000000000003\n"
     ]
    }
   ],
   "source": [
    "n1=input(\"enter the value n\")\n",
    "n=int(n1)\n",
    "tot=0\n",
    "for i in range(1,n+1):\n",
    "    tot=tot+(i/(i+1))\n",
    "print(tot)    "
   ]
  },
  {
   "cell_type": "markdown",
   "metadata": {},
   "source": [
    "**64. Write a program to compute:\n",
    "f(n)=f(n-1)+100 when n>0\n",
    "and f(0)=1\n",
    "with a given n input by console (n>0).\n",
    "If the following n is given as input to the program: 5\n",
    "Then, the output of the program should be: 500\n",
    "In case of input data being supplied to the question, it should be assumed to be a console input.\n",
    "Hints: We can define recursive function in Python.**"
   ]
  },
  {
   "cell_type": "code",
   "execution_count": 27,
   "metadata": {},
   "outputs": [
    {
     "name": "stdout",
     "output_type": "stream",
     "text": [
      "enter the n value5\n"
     ]
    },
    {
     "data": {
      "text/plain": [
       "501"
      ]
     },
     "execution_count": 27,
     "metadata": {},
     "output_type": "execute_result"
    }
   ],
   "source": [
    "def calfun(n): ######################## how does it come to 500???????????????/\n",
    "    if (n==0):\n",
    "        return 1\n",
    "    else:\n",
    "        return(calfun(n-1)+100)\n",
    "\n",
    "n2=input(\"enter the n value\")\n",
    "n=int(n2) \n",
    "calfun(n)\n"
   ]
  },
  {
   "cell_type": "markdown",
   "metadata": {},
   "source": [
    "**65. The Fibonacci sequence is computed based on the following formula:\n",
    "f(n)=0 if n=0\n",
    "f(n)=1 if n=1\n",
    "f(n)=f(n-1)+f(n-2) if n>1\n",
    "Please write a program to compute the value of f(n) with a given n input by console.\n",
    "If the following n is given as input to the program: 7\n",
    "Then, the output of the program should be: 13\n",
    "In case of input data being supplied to the question, it should be assumed to be a console input.\n",
    "Hints: We can define recursive function in Python.**"
   ]
  },
  {
   "cell_type": "code",
   "execution_count": 47,
   "metadata": {},
   "outputs": [
    {
     "name": "stdout",
     "output_type": "stream",
     "text": [
      "enter the n value7\n",
      "13\n"
     ]
    }
   ],
   "source": [
    "def fibseq(n):\n",
    "    if n<=1:\n",
    "        return n\n",
    "    else:\n",
    "        return(fibseq(n-1) + fibseq(n-2))\n",
    "        \n",
    "    \n",
    "n1=input(\"enter the n value\")\n",
    "n=int(n1)\n",
    "\n",
    "for i in range(n+1):\n",
    "    t=fibseq(i)\n",
    "print(t)\n",
    "    "
   ]
  },
  {
   "cell_type": "markdown",
   "metadata": {},
   "source": [
    "**66. The Fibonacci sequence is computed based on the following formula:\n",
    "f(n)=0 if n=0\n",
    "f(n)=1 if n=1\n",
    "f(n)=f(n-1)+f(n-2) if n>1\n",
    "Please write a program using list comprehension to print the Fibonacci sequence in comma separated form with a given n input by console.\n",
    "If the following n is given as input to the program: 7\n",
    "Then, the output of the program should be: 0, 1, 1, 2, 3, 5, 8, 13\n",
    "Hints: We can define recursive function in Python. Use list comprehension to generate a list from an existing list. Use string.join() to join a list of strings. In case of input data being supplied to the question, it should be assumed to be a console input.**"
   ]
  },
  {
   "cell_type": "code",
   "execution_count": 48,
   "metadata": {},
   "outputs": [
    {
     "name": "stdout",
     "output_type": "stream",
     "text": [
      "enter the n value7\n"
     ]
    },
    {
     "data": {
      "text/plain": [
       "[0, 1, 1, 2, 3, 5, 8, 13]"
      ]
     },
     "execution_count": 48,
     "metadata": {},
     "output_type": "execute_result"
    }
   ],
   "source": [
    "def fibseq(n):\n",
    "    if n<=1:\n",
    "        return n\n",
    "    else:\n",
    "        return(fibseq(n-1) + fibseq(n-2))\n",
    "        \n",
    "    \n",
    "n1=input(\"enter the n value\")\n",
    "n=int(n1)\n",
    "l1=[fibseq(i) for i in range(n+1)]\n",
    "l1"
   ]
  },
  {
   "cell_type": "markdown",
   "metadata": {},
   "source": [
    "**67. Please write a program using generator to print the even numbers between 0 and n in comma separated form while n is input by console.\n",
    "Example: If the following n is given as input to the program: 10\n",
    "Then, the output of the program should be: 0,2,4,6,8,10\n",
    "Hints: Use yield to produce the next value in generator. In case of input data being supplied to the question, it should be assumed to be a console input.**"
   ]
  },
  {
   "cell_type": "code",
   "execution_count": 32,
   "metadata": {},
   "outputs": [
    {
     "name": "stdout",
     "output_type": "stream",
     "text": [
      "enter the upper limit4\n",
      "2\n"
     ]
    },
    {
     "ename": "StopIteration",
     "evalue": "",
     "output_type": "error",
     "traceback": [
      "\u001b[1;31m---------------------------------------------------------------------------\u001b[0m",
      "\u001b[1;31mStopIteration\u001b[0m                             Traceback (most recent call last)",
      "\u001b[1;32m<ipython-input-32-4030415e43cc>\u001b[0m in \u001b[0;36m<module>\u001b[1;34m()\u001b[0m\n\u001b[0;32m     11\u001b[0m \u001b[0me1\u001b[0m\u001b[1;33m=\u001b[0m\u001b[0mevengen\u001b[0m\u001b[1;33m(\u001b[0m\u001b[0mn\u001b[0m\u001b[1;33m)\u001b[0m\u001b[1;33m\u001b[0m\u001b[0m\n\u001b[0;32m     12\u001b[0m \u001b[1;32mfor\u001b[0m \u001b[0mi\u001b[0m \u001b[1;32min\u001b[0m \u001b[0me1\u001b[0m\u001b[1;33m:\u001b[0m\u001b[1;33m\u001b[0m\u001b[0m\n\u001b[1;32m---> 13\u001b[1;33m     \u001b[0ma\u001b[0m\u001b[1;33m=\u001b[0m\u001b[0mnext\u001b[0m\u001b[1;33m(\u001b[0m\u001b[0me1\u001b[0m\u001b[1;33m)\u001b[0m\u001b[1;33m\u001b[0m\u001b[0m\n\u001b[0m\u001b[0;32m     14\u001b[0m     \u001b[0mprint\u001b[0m\u001b[1;33m(\u001b[0m\u001b[0ma\u001b[0m\u001b[1;33m)\u001b[0m\u001b[1;33m\u001b[0m\u001b[0m\n",
      "\u001b[1;31mStopIteration\u001b[0m: "
     ]
    }
   ],
   "source": [
    "def evengen(n):\n",
    "    for i in range(n+1):\n",
    "        if(i%2==0):\n",
    "            yield i\n",
    "            #print(i)\n",
    "###########################################\n",
    "n1=input(\"enter the upper limit\")\n",
    "n=int(n1)\n",
    "l1=[]\n",
    "##########################################\n",
    "e1=evengen(n)\n",
    "for i in e1:\n",
    "    a=next(e1)\n",
    "    print(a)"
   ]
  },
  {
   "cell_type": "markdown",
   "metadata": {},
   "source": [
    "**68. Please write a program using generator to print the numbers which can be divisible by 5 and 7 between 0 and n in comma separated form while n is input by console.\n",
    "If the following n is given as input to the program: 100\n",
    "Then, the output of the program should be: 0, 35, 70\n",
    "Hints: Use yield to produce the next value in generator. In case of input data being supplied to the question, it should be assumed to be a console input.**"
   ]
  },
  {
   "cell_type": "code",
   "execution_count": 33,
   "metadata": {},
   "outputs": [
    {
     "name": "stdout",
     "output_type": "stream",
     "text": [
      "enter the upper limit100\n",
      "35\n"
     ]
    },
    {
     "ename": "StopIteration",
     "evalue": "",
     "output_type": "error",
     "traceback": [
      "\u001b[1;31m---------------------------------------------------------------------------\u001b[0m",
      "\u001b[1;31mStopIteration\u001b[0m                             Traceback (most recent call last)",
      "\u001b[1;32m<ipython-input-33-613af0ce235c>\u001b[0m in \u001b[0;36m<module>\u001b[1;34m()\u001b[0m\n\u001b[0;32m     11\u001b[0m \u001b[0me1\u001b[0m\u001b[1;33m=\u001b[0m\u001b[0mevengen\u001b[0m\u001b[1;33m(\u001b[0m\u001b[0mn\u001b[0m\u001b[1;33m)\u001b[0m\u001b[1;33m\u001b[0m\u001b[0m\n\u001b[0;32m     12\u001b[0m \u001b[1;32mfor\u001b[0m \u001b[0mi\u001b[0m \u001b[1;32min\u001b[0m \u001b[0me1\u001b[0m\u001b[1;33m:\u001b[0m\u001b[1;33m\u001b[0m\u001b[0m\n\u001b[1;32m---> 13\u001b[1;33m     \u001b[0ma\u001b[0m\u001b[1;33m=\u001b[0m\u001b[0mnext\u001b[0m\u001b[1;33m(\u001b[0m\u001b[0me1\u001b[0m\u001b[1;33m)\u001b[0m\u001b[1;33m\u001b[0m\u001b[0m\n\u001b[0m\u001b[0;32m     14\u001b[0m     \u001b[0mprint\u001b[0m\u001b[1;33m(\u001b[0m\u001b[0ma\u001b[0m\u001b[1;33m)\u001b[0m\u001b[1;33m\u001b[0m\u001b[0m\n",
      "\u001b[1;31mStopIteration\u001b[0m: "
     ]
    }
   ],
   "source": [
    "def evengen(n):\n",
    "    for i in range(n+1):\n",
    "        if((i%5==0) and (i%7==0)):\n",
    "            yield i\n",
    "            #print(i)\n",
    "###########################################\n",
    "n1=input(\"enter the upper limit\")\n",
    "n=int(n1)\n",
    "l1=[]\n",
    "##########################################\n",
    "e1=evengen(n)\n",
    "for i in e1:\n",
    "    a=next(e1)\n",
    "    print(a)"
   ]
  },
  {
   "cell_type": "markdown",
   "metadata": {},
   "source": [
    "**69. Please write assert statements to verify that every number in the list [2,4,6,8] is even.\n",
    "Hints: Use \"assert expression\" to make assertion.**"
   ]
  },
  {
   "cell_type": "code",
   "execution_count": 51,
   "metadata": {},
   "outputs": [],
   "source": [
    "l1=[2,4,6,8]\n",
    "for i in l1:\n",
    "    assert i%2==0,\"list has an odd number\""
   ]
  },
  {
   "cell_type": "markdown",
   "metadata": {},
   "source": [
    "**70. Please write a program which accepts basic mathematic expression from console and print the evaluation result.\n",
    "If the following string is given as input to the program: 35+3\n",
    "Then, the output of the program should be: 38\n",
    "Hints: Use eval() to evaluate an expression.**"
   ]
  },
  {
   "cell_type": "code",
   "execution_count": 52,
   "metadata": {},
   "outputs": [
    {
     "name": "stdout",
     "output_type": "stream",
     "text": [
      "enter the expression35+3\n",
      "38\n"
     ]
    }
   ],
   "source": [
    "s1=input(\"enter the expression\")\n",
    "print(eval(s1))\n"
   ]
  },
  {
   "cell_type": "markdown",
   "metadata": {},
   "source": [
    "**71. Please write a binary search function which searches an item in a sorted list. The function should return the index of element to be searched in the list.\n",
    "Hints: Use if/elif to deal with conditions.**"
   ]
  },
  {
   "cell_type": "code",
   "execution_count": 47,
   "metadata": {},
   "outputs": [
    {
     "ename": "IndexError",
     "evalue": "list index out of range",
     "output_type": "error",
     "traceback": [
      "\u001b[1;31m---------------------------------------------------------------------------\u001b[0m",
      "\u001b[1;31mIndexError\u001b[0m                                Traceback (most recent call last)",
      "\u001b[1;32m<ipython-input-47-6f40cb6c4268>\u001b[0m in \u001b[0;36m<module>\u001b[1;34m()\u001b[0m\n\u001b[0;32m     13\u001b[0m \u001b[0ml1\u001b[0m\u001b[1;33m=\u001b[0m\u001b[1;33m[\u001b[0m\u001b[1;36m3\u001b[0m\u001b[1;33m,\u001b[0m\u001b[1;36m5\u001b[0m\u001b[1;33m,\u001b[0m\u001b[1;36m6\u001b[0m\u001b[1;33m,\u001b[0m\u001b[1;36m23\u001b[0m\u001b[1;33m,\u001b[0m\u001b[1;36m34\u001b[0m\u001b[1;33m,\u001b[0m\u001b[1;36m56\u001b[0m\u001b[1;33m,\u001b[0m\u001b[1;36m78\u001b[0m\u001b[1;33m]\u001b[0m\u001b[1;33m\u001b[0m\u001b[0m\n\u001b[0;32m     14\u001b[0m \u001b[0mlength\u001b[0m\u001b[1;33m=\u001b[0m\u001b[0mlen\u001b[0m\u001b[1;33m(\u001b[0m\u001b[0ml1\u001b[0m\u001b[1;33m)\u001b[0m\u001b[1;33m\u001b[0m\u001b[0m\n\u001b[1;32m---> 15\u001b[1;33m \u001b[0mindx\u001b[0m\u001b[1;33m=\u001b[0m\u001b[0mbinsrch\u001b[0m\u001b[1;33m(\u001b[0m\u001b[0ml1\u001b[0m\u001b[1;33m,\u001b[0m\u001b[1;36m0\u001b[0m\u001b[1;33m,\u001b[0m\u001b[0mlength\u001b[0m\u001b[1;33m+\u001b[0m\u001b[1;36m2\u001b[0m\u001b[1;33m,\u001b[0m\u001b[1;36m78\u001b[0m\u001b[1;33m)\u001b[0m\u001b[1;33m\u001b[0m\u001b[0m\n\u001b[0m\u001b[0;32m     16\u001b[0m \u001b[0mprint\u001b[0m\u001b[1;33m(\u001b[0m\u001b[0mindx\u001b[0m\u001b[1;33m)\u001b[0m\u001b[1;33m\u001b[0m\u001b[0m\n",
      "\u001b[1;32m<ipython-input-47-6f40cb6c4268>\u001b[0m in \u001b[0;36mbinsrch\u001b[1;34m(l1, i, l, x)\u001b[0m\n\u001b[0;32m      9\u001b[0m         \u001b[1;32mreturn\u001b[0m \u001b[0mbinsrch\u001b[0m\u001b[1;33m(\u001b[0m\u001b[0ml1\u001b[0m\u001b[1;33m,\u001b[0m\u001b[0mi\u001b[0m\u001b[1;33m,\u001b[0m\u001b[0mmid\u001b[0m\u001b[1;33m-\u001b[0m\u001b[1;36m1\u001b[0m\u001b[1;33m,\u001b[0m\u001b[0mx\u001b[0m\u001b[1;33m)\u001b[0m\u001b[1;33m\u001b[0m\u001b[0m\n\u001b[0;32m     10\u001b[0m     \u001b[1;32melse\u001b[0m\u001b[1;33m:\u001b[0m\u001b[1;33m\u001b[0m\u001b[0m\n\u001b[1;32m---> 11\u001b[1;33m         \u001b[1;32mreturn\u001b[0m \u001b[0mbinsrch\u001b[0m\u001b[1;33m(\u001b[0m\u001b[0ml1\u001b[0m\u001b[1;33m,\u001b[0m\u001b[0mmid\u001b[0m\u001b[1;33m+\u001b[0m\u001b[1;36m1\u001b[0m\u001b[1;33m,\u001b[0m\u001b[0ml\u001b[0m\u001b[1;33m,\u001b[0m\u001b[0mx\u001b[0m\u001b[1;33m)\u001b[0m\u001b[1;33m\u001b[0m\u001b[0m\n\u001b[0m\u001b[0;32m     12\u001b[0m         \u001b[0mprint\u001b[0m\u001b[1;33m(\u001b[0m\u001b[0ml\u001b[0m\u001b[1;33m)\u001b[0m\u001b[1;33m\u001b[0m\u001b[0m\n\u001b[0;32m     13\u001b[0m \u001b[0ml1\u001b[0m\u001b[1;33m=\u001b[0m\u001b[1;33m[\u001b[0m\u001b[1;36m3\u001b[0m\u001b[1;33m,\u001b[0m\u001b[1;36m5\u001b[0m\u001b[1;33m,\u001b[0m\u001b[1;36m6\u001b[0m\u001b[1;33m,\u001b[0m\u001b[1;36m23\u001b[0m\u001b[1;33m,\u001b[0m\u001b[1;36m34\u001b[0m\u001b[1;33m,\u001b[0m\u001b[1;36m56\u001b[0m\u001b[1;33m,\u001b[0m\u001b[1;36m78\u001b[0m\u001b[1;33m]\u001b[0m\u001b[1;33m\u001b[0m\u001b[0m\n",
      "\u001b[1;32m<ipython-input-47-6f40cb6c4268>\u001b[0m in \u001b[0;36mbinsrch\u001b[1;34m(l1, i, l, x)\u001b[0m\n\u001b[0;32m      3\u001b[0m     \u001b[0mmid\u001b[0m\u001b[1;33m=\u001b[0m\u001b[0mint\u001b[0m\u001b[1;33m(\u001b[0m\u001b[0mi\u001b[0m\u001b[1;33m+\u001b[0m\u001b[1;33m(\u001b[0m\u001b[0ml\u001b[0m\u001b[1;33m-\u001b[0m\u001b[1;36m1\u001b[0m\u001b[1;33m)\u001b[0m\u001b[1;33m/\u001b[0m\u001b[1;36m2\u001b[0m\u001b[1;33m)\u001b[0m\u001b[1;33m\u001b[0m\u001b[0m\n\u001b[0;32m      4\u001b[0m \u001b[1;33m\u001b[0m\u001b[0m\n\u001b[1;32m----> 5\u001b[1;33m     \u001b[1;32mif\u001b[0m \u001b[0mx\u001b[0m\u001b[1;33m==\u001b[0m\u001b[0ml1\u001b[0m\u001b[1;33m[\u001b[0m\u001b[0mmid\u001b[0m\u001b[1;33m]\u001b[0m\u001b[1;33m:\u001b[0m\u001b[1;33m\u001b[0m\u001b[0m\n\u001b[0m\u001b[0;32m      6\u001b[0m         \u001b[1;32mreturn\u001b[0m \u001b[0mmid\u001b[0m\u001b[1;33m\u001b[0m\u001b[0m\n\u001b[0;32m      7\u001b[0m \u001b[1;33m\u001b[0m\u001b[0m\n",
      "\u001b[1;31mIndexError\u001b[0m: list index out of range"
     ]
    }
   ],
   "source": [
    "def binsrch(l1,i,l,x):\n",
    "    \n",
    "    mid=int(i+(l-1)/2)\n",
    "    \n",
    "    if x==l1[mid]:\n",
    "        return mid\n",
    "    \n",
    "    elif x<l1[mid]:\n",
    "        return binsrch(l1,i,mid-1,x)\n",
    "    else:\n",
    "        return binsrch(l1,mid+1,l,x)\n",
    "        print(l)\n",
    "l1=[3,5,6,23,34,56,78]\n",
    "length=len(l1)\n",
    "indx=binsrch(l1,0,length,78)\n",
    "print(indx)"
   ]
  },
  {
   "cell_type": "markdown",
   "metadata": {},
   "source": [
    "**72. Please write a binary search function which searches an item in a sorted list. The function should return the index of element to be searched in the list.\n",
    "Hints: Use if/elif to deal with conditions.**"
   ]
  },
  {
   "cell_type": "code",
   "execution_count": null,
   "metadata": {},
   "outputs": [],
   "source": [
    "###########33   Same as prev qstn######################3"
   ]
  },
  {
   "cell_type": "markdown",
   "metadata": {},
   "source": [
    "**73. Please generate a random float where the value is between 10 and 100 using Python math module.\n",
    "Hints: Use random.random() to generate a random float in [0,1].**"
   ]
  },
  {
   "cell_type": "code",
   "execution_count": 107,
   "metadata": {},
   "outputs": [
    {
     "data": {
      "text/plain": [
       "34.889697363436824"
      ]
     },
     "execution_count": 107,
     "metadata": {},
     "output_type": "execute_result"
    }
   ],
   "source": [
    "import random\n",
    "a=random.uniform(10,100)\n",
    "a"
   ]
  },
  {
   "cell_type": "markdown",
   "metadata": {},
   "source": [
    "**74. Please generate a random float where the value is between 5 and 95 using Python math module.\n",
    "Hints: Use random.random() to generate a random float in [0,1].**"
   ]
  },
  {
   "cell_type": "code",
   "execution_count": 108,
   "metadata": {},
   "outputs": [
    {
     "data": {
      "text/plain": [
       "35.68507355339517"
      ]
     },
     "execution_count": 108,
     "metadata": {},
     "output_type": "execute_result"
    }
   ],
   "source": [
    "import random\n",
    "a=random.uniform(5,95)\n",
    "a"
   ]
  },
  {
   "cell_type": "markdown",
   "metadata": {},
   "source": [
    "**75. Please write a program to output a random even number between 0 and 10 inclusive using random module and list comprehension.\n",
    "Hints: Use random.choice() to a random element from a list\n",
    "**"
   ]
  },
  {
   "cell_type": "code",
   "execution_count": 113,
   "metadata": {},
   "outputs": [
    {
     "data": {
      "text/plain": [
       "2"
      ]
     },
     "execution_count": 113,
     "metadata": {},
     "output_type": "execute_result"
    }
   ],
   "source": [
    "l1=[i for i in range(0,11) if(i%2==0)]\n",
    "random.choice(l1)\n"
   ]
  },
  {
   "cell_type": "markdown",
   "metadata": {},
   "source": [
    "**76. Please write a program to output a random number, which is divisible by 5 and 7, between 0 and 10 inclusive using random module and list comprehension.\n",
    "Hints: Use random.choice() to a random element from a list.**"
   ]
  },
  {
   "cell_type": "code",
   "execution_count": 140,
   "metadata": {},
   "outputs": [
    {
     "data": {
      "text/plain": [
       "70"
      ]
     },
     "execution_count": 140,
     "metadata": {},
     "output_type": "execute_result"
    }
   ],
   "source": [
    "l1=[i for i in range(0,100) if((i%5==0) and (i%7==0))] # have modified the range, since no such an integer exist for this condition and range\n",
    "random.choice(l1)"
   ]
  },
  {
   "cell_type": "markdown",
   "metadata": {},
   "source": [
    "**77. Please write a program to generate a list with 5 random numbers between 100 and 200 inclusive.\n",
    "Hints: Use random.sample() to generate a list of random values.**"
   ]
  },
  {
   "cell_type": "code",
   "execution_count": 143,
   "metadata": {},
   "outputs": [
    {
     "data": {
      "text/plain": [
       "[159, 143, 140, 196, 132]"
      ]
     },
     "execution_count": 143,
     "metadata": {},
     "output_type": "execute_result"
    }
   ],
   "source": [
    "l1=[i for i in range(100,201)]\n",
    "random.sample(l1,5)"
   ]
  },
  {
   "cell_type": "markdown",
   "metadata": {},
   "source": [
    "**78. Please write a program to randomly generate a list with 5 even numbers between 100 and 200 inclusive.\n",
    "Hints: Use random.sample() to generate a list of random values.**"
   ]
  },
  {
   "cell_type": "code",
   "execution_count": 145,
   "metadata": {},
   "outputs": [
    {
     "data": {
      "text/plain": [
       "[182, 162, 170, 152, 120]"
      ]
     },
     "execution_count": 145,
     "metadata": {},
     "output_type": "execute_result"
    }
   ],
   "source": [
    "l1=[i for i in range(100,201) if(i%2==0)]\n",
    "random.sample(l1,5)"
   ]
  },
  {
   "cell_type": "markdown",
   "metadata": {},
   "source": [
    "**79. Please write a program to randomly generate a list with 5 numbers, which are divisible by 5 and 7 , between 1 and 1000 inclusive.\n",
    "Hints: Use random.sample() to generate a list of random values.**"
   ]
  },
  {
   "cell_type": "code",
   "execution_count": 147,
   "metadata": {},
   "outputs": [
    {
     "data": {
      "text/plain": [
       "[945, 210, 980, 70, 805]"
      ]
     },
     "execution_count": 147,
     "metadata": {},
     "output_type": "execute_result"
    }
   ],
   "source": [
    "l1=[i for i in range(0,1001) if((i%5==0) and (i%7==0))]\n",
    "random.sample(l1,5)"
   ]
  },
  {
   "cell_type": "markdown",
   "metadata": {},
   "source": [
    "**80. Please write a program to randomly print a integer number between 7 and 15 inclusive.\n",
    "Hints: Use random.randrange() to a random integer in a given range.**"
   ]
  },
  {
   "cell_type": "code",
   "execution_count": 184,
   "metadata": {},
   "outputs": [
    {
     "data": {
      "text/plain": [
       "12"
      ]
     },
     "execution_count": 184,
     "metadata": {},
     "output_type": "execute_result"
    }
   ],
   "source": [
    "random.randrange(7,16)"
   ]
  },
  {
   "cell_type": "markdown",
   "metadata": {},
   "source": [
    "**81. Please write a program to compress and decompress the string \"hello world!hello world!hello world!hello world!\".\n",
    "Hints: Use zlib.compress() and zlib.decompress() to compress and decompress a string.**"
   ]
  },
  {
   "cell_type": "code",
   "execution_count": 190,
   "metadata": {},
   "outputs": [
    {
     "ename": "TypeError",
     "evalue": "a bytes-like object is required, not 'str'",
     "output_type": "error",
     "traceback": [
      "\u001b[1;31m---------------------------------------------------------------------------\u001b[0m",
      "\u001b[1;31mTypeError\u001b[0m                                 Traceback (most recent call last)",
      "\u001b[1;32m<ipython-input-190-0c7aa9e89b54>\u001b[0m in \u001b[0;36m<module>\u001b[1;34m()\u001b[0m\n\u001b[0;32m      1\u001b[0m \u001b[1;32mimport\u001b[0m \u001b[0mzlib\u001b[0m\u001b[1;33m\u001b[0m\u001b[0m\n\u001b[0;32m      2\u001b[0m \u001b[0mdata\u001b[0m\u001b[1;33m=\u001b[0m\u001b[1;34m\"hello world!hello world!hello world!hello world!\"\u001b[0m\u001b[1;33m\u001b[0m\u001b[0m\n\u001b[1;32m----> 3\u001b[1;33m \u001b[0mcomp_data\u001b[0m\u001b[1;33m=\u001b[0m\u001b[0mzlib\u001b[0m\u001b[1;33m.\u001b[0m\u001b[0mcompress\u001b[0m\u001b[1;33m(\u001b[0m\u001b[0mdata\u001b[0m\u001b[1;33m,\u001b[0m\u001b[1;33m-\u001b[0m\u001b[1;36m1\u001b[0m\u001b[1;33m)\u001b[0m\u001b[1;33m\u001b[0m\u001b[0m\n\u001b[0m\u001b[0;32m      4\u001b[0m \u001b[0ms2\u001b[0m\u001b[1;33m=\u001b[0m\u001b[0mzlib\u001b[0m\u001b[1;33m.\u001b[0m\u001b[0mdecompress\u001b[0m\u001b[1;33m(\u001b[0m\u001b[0mcomp_data\u001b[0m\u001b[1;33m)\u001b[0m\u001b[1;33m\u001b[0m\u001b[0m\n",
      "\u001b[1;31mTypeError\u001b[0m: a bytes-like object is required, not 'str'"
     ]
    }
   ],
   "source": [
    "import zlib\n",
    "data=\"hello world!hello world!hello world!hello world!\"\n",
    "comp_data=zlib.compress(data,-1)\n",
    "s2=zlib.decompress(comp_data)\n"
   ]
  },
  {
   "cell_type": "markdown",
   "metadata": {},
   "source": [
    "**82. Please write a program to print the running time of execution of \"1+1\" for 100 times.\n",
    "Hints: Use timeit() function to measure the running time.**"
   ]
  },
  {
   "cell_type": "code",
   "execution_count": 208,
   "metadata": {},
   "outputs": [
    {
     "data": {
      "text/plain": [
       "2.6500000004148205e-05"
      ]
     },
     "execution_count": 208,
     "metadata": {},
     "output_type": "execute_result"
    }
   ],
   "source": [
    "import timeit\n",
    "def add2():\n",
    "    a=1+1\n",
    "sec1=timeit.timeit(stmt=add2,number=100)\n",
    "sec1"
   ]
  },
  {
   "cell_type": "markdown",
   "metadata": {},
   "source": [
    "**83. Please write a program to shuffle and print the list [3,6,7,8].\n",
    "Hints: Use shuffle() function to shuffle a list.**"
   ]
  },
  {
   "cell_type": "code",
   "execution_count": 216,
   "metadata": {},
   "outputs": [],
   "source": [
    "import random\n",
    "l1=[3,6,7,8]\n",
    "sl=random.shuffle(l1)\n",
    "sl"
   ]
  },
  {
   "cell_type": "markdown",
   "metadata": {},
   "source": [
    "**84. Please write a program to shuffle and print the list [3,6,7,8].\n",
    "Hints: Use shuffle() function to shuffle a list.**"
   ]
  },
  {
   "cell_type": "code",
   "execution_count": null,
   "metadata": {},
   "outputs": [],
   "source": [
    "#repeat of qstn number 83"
   ]
  },
  {
   "cell_type": "markdown",
   "metadata": {},
   "source": [
    "**85. Please write a program to generate all sentences where subject is in [\"I\", \"You\"] and verb is in [\"Play\", \"Love\"] and the object is in [\"Hockey\",\"Football\"].\n",
    "Hints: Use list[index] notation to get a element from a list.**"
   ]
  },
  {
   "cell_type": "code",
   "execution_count": 49,
   "metadata": {},
   "outputs": [
    {
     "name": "stdout",
     "output_type": "stream",
     "text": [
      "IPlayHockey\n",
      "IPlayFootball\n",
      "ILoveHockey\n",
      "ILoveFootball\n",
      "YouPlayHockey\n",
      "YouPlayFootball\n",
      "YouLoveHockey\n",
      "YouLoveFootball\n"
     ]
    }
   ],
   "source": [
    "sub=[\"I\",\"You\"]\n",
    "verb=[\"Play\",\"Love\"]\n",
    "obj=[\"Hockey\",\"Football\"]\n",
    "for i in sub:\n",
    "    for j in verb:\n",
    "        for k in obj:\n",
    "            print((i + j + k))\n",
    "\n",
    "\n",
    "            "
   ]
  },
  {
   "cell_type": "markdown",
   "metadata": {},
   "source": [
    "**86. Please write a program to print the list after removing delete even numbers in [5,6,77,45,22,12,24].\n",
    "Hints: Use list comprehension to delete a bunch of element from a list.**"
   ]
  },
  {
   "cell_type": "code",
   "execution_count": 222,
   "metadata": {},
   "outputs": [
    {
     "data": {
      "text/plain": [
       "[5, 77, 45]"
      ]
     },
     "execution_count": 222,
     "metadata": {},
     "output_type": "execute_result"
    }
   ],
   "source": [
    "ls1=[5,6,77,45,22,12,24]\n",
    "ls2=[i for i in ls1 if(i%2!=0)]\n",
    "ls2"
   ]
  },
  {
   "cell_type": "markdown",
   "metadata": {},
   "source": [
    "**87. By using list comprehension, please write a program to print the list after removing delete numbers which are divisible by 5 and 7 in [12,24,35,70,88,120,155].\n",
    "Hints: Use list comprehension to delete a bunch of element from a list.**"
   ]
  },
  {
   "cell_type": "code",
   "execution_count": 224,
   "metadata": {},
   "outputs": [
    {
     "data": {
      "text/plain": [
       "[12, 24, 88, 120, 155]"
      ]
     },
     "execution_count": 224,
     "metadata": {},
     "output_type": "execute_result"
    }
   ],
   "source": [
    "ls1=[12,24,35,70,88,120,155]\n",
    "ls2=[i for i in ls1 if((i%5!=0) or (i%7!=0))]\n",
    "ls2"
   ]
  },
  {
   "cell_type": "markdown",
   "metadata": {},
   "source": [
    "**88. By using list comprehension, please write a program to print the list after removing the 0th, 2nd, 4th,6th numbers in [12,24,35,70,88,120,155].\n",
    "Hints: Use list comprehension to delete a bunch of element from a list. Use enumerate() to get (index, value) tuple.**"
   ]
  },
  {
   "cell_type": "code",
   "execution_count": 64,
   "metadata": {},
   "outputs": [
    {
     "data": {
      "text/plain": [
       "[24, 70, 120]"
      ]
     },
     "execution_count": 64,
     "metadata": {},
     "output_type": "execute_result"
    }
   ],
   "source": [
    "l1=[12,24,35,70,88,120,155]\n",
    "l4=[0,2,4,6]\n",
    "l2=list(enumerate(l1))\n",
    "l3=[x[1] for x in l2 if (x[0] not in l4)]\n",
    "l3\n"
   ]
  },
  {
   "cell_type": "markdown",
   "metadata": {},
   "source": [
    "**89. By using list comprehension, please write a program generate a 3*5*8 3D array whose each element is 0.\n",
    "Hints: Use list comprehension to make an array.**"
   ]
  },
  {
   "cell_type": "markdown",
   "metadata": {},
   "source": [
    "**90. By using list comprehension, please write a program to print the list after removing the 0th,4th,5th numbers in [12,24,35,70,88,120,155].\n",
    "Hints: Use list comprehension to delete a bunch of element from a list. Use enumerate() to get (index, value) tuple.**"
   ]
  },
  {
   "cell_type": "code",
   "execution_count": 63,
   "metadata": {},
   "outputs": [
    {
     "data": {
      "text/plain": [
       "[24, 35, 70, 155]"
      ]
     },
     "execution_count": 63,
     "metadata": {},
     "output_type": "execute_result"
    }
   ],
   "source": [
    "l1=[12,24,35,70,88,120,155]\n",
    "l4=[0,4,5]\n",
    "l2=list(enumerate(l1))\n",
    "l3=[x[1] for x in l2 if (x[0] not in l4)]\n",
    "l3"
   ]
  },
  {
   "cell_type": "markdown",
   "metadata": {},
   "source": [
    "**91. By using list comprehension, please write a program to print the list after removing the value 24 in [12,24,35,24,88,120,155].\n",
    "Hints: Use list's remove method to delete a value.**"
   ]
  },
  {
   "cell_type": "code",
   "execution_count": 62,
   "metadata": {},
   "outputs": [
    {
     "data": {
      "text/plain": [
       "[12, 35, 24, 88, 120, 155]"
      ]
     },
     "execution_count": 62,
     "metadata": {},
     "output_type": "execute_result"
    }
   ],
   "source": [
    "l1=[12,24,35,24,88,120,155] #### Remove deletes only the first encounter####\n",
    "l1.remove(24)\n",
    "l1"
   ]
  },
  {
   "cell_type": "markdown",
   "metadata": {},
   "source": [
    "**92. With two given lists [1,3,6,78,35,55] and [12,24,35,24,88,120,155], write a program to make a list whose elements are intersection of the above given lists.\n",
    "Hints: Use set() and \"&=\" to do set intersection operation.**"
   ]
  },
  {
   "cell_type": "code",
   "execution_count": 226,
   "metadata": {},
   "outputs": [
    {
     "data": {
      "text/plain": [
       "[35]"
      ]
     },
     "execution_count": 226,
     "metadata": {},
     "output_type": "execute_result"
    }
   ],
   "source": [
    "l1=[1,3,6,78,35,55]\n",
    "l2=[12,24,35,24,88,120,155]\n",
    "s1=set(l1)\n",
    "s2=set(l2)\n",
    "l3=list(s1.intersection(s2))\n",
    "l3"
   ]
  },
  {
   "cell_type": "markdown",
   "metadata": {},
   "source": [
    "**93. With a given list [12, 24, 35, 24, 88, 120, 155, 88, 120, 155], write a program to print this list after removing all duplicate values with original order reserved.\n",
    "Hints: Use set() to store a number of values without duplicate.**"
   ]
  },
  {
   "cell_type": "code",
   "execution_count": 230,
   "metadata": {},
   "outputs": [
    {
     "data": {
      "text/plain": [
       "[35, 12, 155, 24, 88, 120]"
      ]
     },
     "execution_count": 230,
     "metadata": {},
     "output_type": "execute_result"
    }
   ],
   "source": [
    "lst1=[12, 24, 35, 24, 88, 120, 155, 88, 120, 155]\n",
    "lst2=list(set(lst1))\n",
    "lst2"
   ]
  },
  {
   "cell_type": "markdown",
   "metadata": {},
   "source": [
    "**94. Define a class Person and its two child classes: Male and Female. All classes have a method \"getGender\" which can print \"Male\" for Male class and \"Female\" for Female class.\n",
    "Hints: Use Subclass(Parentclass) to define a child class.**"
   ]
  },
  {
   "cell_type": "code",
   "execution_count": 68,
   "metadata": {},
   "outputs": [
    {
     "ename": "NameError",
     "evalue": "name 'M' is not defined",
     "output_type": "error",
     "traceback": [
      "\u001b[1;31m---------------------------------------------------------------------------\u001b[0m",
      "\u001b[1;31mNameError\u001b[0m                                 Traceback (most recent call last)",
      "\u001b[1;32m<ipython-input-68-bb56be6f094e>\u001b[0m in \u001b[0;36m<module>\u001b[1;34m()\u001b[0m\n\u001b[0;32m     15\u001b[0m         \u001b[1;32mif\u001b[0m \u001b[0mself\u001b[0m\u001b[1;33m.\u001b[0m\u001b[0mgender\u001b[0m\u001b[1;33m==\u001b[0m\u001b[1;34m'F'\u001b[0m\u001b[1;33m:\u001b[0m\u001b[1;33m\u001b[0m\u001b[0m\n\u001b[0;32m     16\u001b[0m             \u001b[0mprint\u001b[0m\u001b[1;33m(\u001b[0m\u001b[1;34m\"Female\"\u001b[0m\u001b[1;33m)\u001b[0m\u001b[1;33m\u001b[0m\u001b[0m\n\u001b[1;32m---> 17\u001b[1;33m \u001b[0mm1\u001b[0m\u001b[1;33m=\u001b[0m\u001b[0mMale\u001b[0m\u001b[1;33m(\u001b[0m\u001b[0mM\u001b[0m\u001b[1;33m)\u001b[0m\u001b[1;33m\u001b[0m\u001b[0m\n\u001b[0m\u001b[0;32m     18\u001b[0m \u001b[0mm1\u001b[0m\u001b[1;33m.\u001b[0m\u001b[0mgetGender\u001b[0m\u001b[1;33m(\u001b[0m\u001b[1;33m)\u001b[0m\u001b[1;33m\u001b[0m\u001b[0m\n\u001b[0;32m     19\u001b[0m \u001b[0mf1\u001b[0m\u001b[1;33m=\u001b[0m\u001b[0mFemale\u001b[0m\u001b[1;33m(\u001b[0m\u001b[0mF\u001b[0m\u001b[1;33m)\u001b[0m\u001b[1;33m\u001b[0m\u001b[0m\n",
      "\u001b[1;31mNameError\u001b[0m: name 'M' is not defined"
     ]
    }
   ],
   "source": [
    "class Person:\n",
    "    def __init__(self,gender):\n",
    "        self.gender=gender\n",
    "\n",
    "class Male(Person):\n",
    "    def __init__(self):\n",
    "        super.__inti__(Person.gender)\n",
    "        \n",
    "    def getGender(self):\n",
    "        if self.gender=='M':\n",
    "            print(\"Male\")\n",
    "\n",
    "class Female(Person):\n",
    "    def getGender(self):\n",
    "        if self.gender=='F':\n",
    "            print(\"Female\")\n",
    "m1=Male(M)\n",
    "m1.getGender()\n",
    "f1=Female(F)\n",
    "f1.getGender()\n",
    "        "
   ]
  },
  {
   "cell_type": "markdown",
   "metadata": {},
   "source": [
    "**95. Please write a program which count and print the numbers of each character in a string input by console.\n",
    "If the following string is given as input to the program: abcdefgabc\n",
    "Then, the output of the program should be:\n",
    "a,2\n",
    "c,2\n",
    "b,2\n",
    "e,1\n",
    "d,1\n",
    "g,1\n",
    "f,1\n",
    "Hints: Use dict to store key/value pairs. Use dict.get() method to lookup a key with default value.**"
   ]
  },
  {
   "cell_type": "code",
   "execution_count": 5,
   "metadata": {},
   "outputs": [
    {
     "name": "stdout",
     "output_type": "stream",
     "text": [
      "Enter the string to be conutedabcdefgabc\n",
      "a 2\n",
      "b 2\n",
      "c 2\n",
      "d 1\n",
      "e 1\n",
      "f 1\n",
      "g 1\n"
     ]
    }
   ],
   "source": [
    "str1=input(\"Enter the string to be conuted\")\n",
    "dict1=dict()\n",
    "for i in str1:\n",
    "    cnt=str1.count(i)\n",
    "    dict1.update({i:cnt})\n",
    "for i in dict1.keys():\n",
    "    print(i,dict1.get(i))"
   ]
  },
  {
   "cell_type": "markdown",
   "metadata": {},
   "source": [
    "**96 Please write a program which accepts a string from console and print it in reverse order.\n",
    "If the following string is given as input to the program: rise to vote sir\n",
    "Then, the output of the program should be: ris etov ot esir\n",
    "Hints: Use list[::-1] to iterate a list in a reverse order.**"
   ]
  },
  {
   "cell_type": "code",
   "execution_count": 9,
   "metadata": {},
   "outputs": [
    {
     "name": "stdout",
     "output_type": "stream",
     "text": [
      "Enter the sentence to reverserise to vote sir\n"
     ]
    },
    {
     "data": {
      "text/plain": [
       "'ris etov ot esir'"
      ]
     },
     "execution_count": 9,
     "metadata": {},
     "output_type": "execute_result"
    }
   ],
   "source": [
    "strip=input(\"Enter the sentence to reverse\")\n",
    "strrs=strip[::-1]\n",
    "strrs"
   ]
  },
  {
   "cell_type": "markdown",
   "metadata": {},
   "source": [
    "**97. Please write a program which accepts a string from console and print the characters that have even indexes.\n",
    "If the following string is given as input to the program: H1e2l3l4o5w6o7r8l9d\n",
    "Then, the output of the program should be: Helloworld\n",
    "Hints: Use list[::2] to iterate a list by step 2.**"
   ]
  },
  {
   "cell_type": "code",
   "execution_count": 33,
   "metadata": {},
   "outputs": [
    {
     "name": "stdout",
     "output_type": "stream",
     "text": [
      "enter the stringH1e2l3l4o5w6o7r8l9d\n"
     ]
    },
    {
     "data": {
      "text/plain": [
       "'Helloworld'"
      ]
     },
     "execution_count": 33,
     "metadata": {},
     "output_type": "execute_result"
    }
   ],
   "source": [
    "str1=input(\"enter the string\")\n",
    "str2=str1[::2]\n",
    "str2"
   ]
  },
  {
   "cell_type": "markdown",
   "metadata": {},
   "source": [
    "**98. Please write a program which prints all permutations of [1, 2, 3]\n",
    "Hints: Use itertools.permutations() to get permutations of list.**"
   ]
  },
  {
   "cell_type": "code",
   "execution_count": 21,
   "metadata": {},
   "outputs": [
    {
     "ename": "NameError",
     "evalue": "name 'more_itertools' is not defined",
     "output_type": "error",
     "traceback": [
      "\u001b[1;31m---------------------------------------------------------------------------\u001b[0m",
      "\u001b[1;31mNameError\u001b[0m                                 Traceback (most recent call last)",
      "\u001b[1;32m<ipython-input-21-e1cdeb713ed8>\u001b[0m in \u001b[0;36m<module>\u001b[1;34m()\u001b[0m\n\u001b[0;32m      1\u001b[0m \u001b[1;32mfrom\u001b[0m \u001b[0mmore_itertools\u001b[0m \u001b[1;32mimport\u001b[0m \u001b[0mcircular_shifts\u001b[0m\u001b[1;33m\u001b[0m\u001b[0m\n\u001b[0;32m      2\u001b[0m \u001b[0mlst\u001b[0m\u001b[1;33m=\u001b[0m\u001b[1;33m[\u001b[0m\u001b[1;36m1\u001b[0m\u001b[1;33m,\u001b[0m\u001b[1;36m2\u001b[0m\u001b[1;33m,\u001b[0m\u001b[1;36m3\u001b[0m\u001b[1;33m]\u001b[0m\u001b[1;33m\u001b[0m\u001b[0m\n\u001b[1;32m----> 3\u001b[1;33m \u001b[0mprint\u001b[0m\u001b[1;33m(\u001b[0m\u001b[0mlist\u001b[0m\u001b[1;33m(\u001b[0m\u001b[0mmore_itertools\u001b[0m\u001b[1;33m.\u001b[0m\u001b[0mpermutations\u001b[0m\u001b[1;33m(\u001b[0m\u001b[0mlst\u001b[0m\u001b[1;33m)\u001b[0m\u001b[1;33m)\u001b[0m\u001b[1;33m)\u001b[0m\u001b[1;33m\u001b[0m\u001b[0m\n\u001b[0m",
      "\u001b[1;31mNameError\u001b[0m: name 'more_itertools' is not defined"
     ]
    }
   ],
   "source": [
    "from more_itertools import circular_shifts\n",
    "lst=[1,2,3]\n",
    "print(list(more_itertools.permutations(lst)))\n"
   ]
  },
  {
   "cell_type": "markdown",
   "metadata": {},
   "source": [
    "**99. Write a program to solve a classic ancient Chinese puzzle:\n",
    "We count 35 heads and 94 legs among the chickens and rabbits in a farm. How many rabbits and how many chickens do we have?  Hint: Use for loop to iterate all possible solutions**"
   ]
  },
  {
   "cell_type": "code",
   "execution_count": 77,
   "metadata": {},
   "outputs": [
    {
     "name": "stdout",
     "output_type": "stream",
     "text": [
      "1 23\n",
      "3 22\n",
      "5 21\n",
      "7 20\n",
      "9 19\n",
      "11 18\n",
      "13 17\n",
      "15 16\n",
      "17 15\n",
      "19 14\n",
      "21 13\n",
      "23 12\n"
     ]
    }
   ],
   "source": [
    "for i in range(1,36):\n",
    "    for j in range(36-i):\n",
    "        if((2*i)+(4*j)==94):\n",
    "            print(i,j)"
   ]
  },
  {
   "cell_type": "markdown",
   "metadata": {},
   "source": [
    "**100. Create a dictionary with phone numbers (phonebook = {“John”: 938477566, \"Jack”: 938377264, \"Jill”: 947662781}). Add \"Jake\" to the phonebook with the phone number 938273443, and remove Jill from the phonebook**"
   ]
  },
  {
   "cell_type": "code",
   "execution_count": 31,
   "metadata": {},
   "outputs": [
    {
     "name": "stdout",
     "output_type": "stream",
     "text": [
      "{'John': 938477566, 'Jack': 938377264, 'Jill': 947662781}\n",
      "{'John': 938477566, 'Jack': 938377264, 'Jill': 947662781, 'jake': 938273443}\n",
      "{'John': 938477566, 'Jack': 938377264, 'jake': 938273443}\n"
     ]
    }
   ],
   "source": [
    "phnbk={\"John\": 938477566,\"Jack\": 938377264,\"Jill\": 947662781}\n",
    "print(phnbk)\n",
    "phnbk.update({\"jake\":938273443})\n",
    "print(phnbk)\n",
    "del phnbk[\"Jill\"]\n",
    "print(phnbk)"
   ]
  }
 ],
 "metadata": {
  "kernelspec": {
   "display_name": "Python 3",
   "language": "python",
   "name": "python3"
  },
  "language_info": {
   "codemirror_mode": {
    "name": "ipython",
    "version": 3
   },
   "file_extension": ".py",
   "mimetype": "text/x-python",
   "name": "python",
   "nbconvert_exporter": "python",
   "pygments_lexer": "ipython3",
   "version": "3.6.5"
  }
 },
 "nbformat": 4,
 "nbformat_minor": 2
}
